{
 "cells": [
  {
   "cell_type": "markdown",
   "metadata": {},
   "source": [
    "# Transformações Relevantes"
   ]
  },
  {
   "cell_type": "markdown",
   "metadata": {},
   "source": [
    "## 1. Importação Bibliotecas"
   ]
  },
  {
   "cell_type": "code",
   "execution_count": null,
   "metadata": {},
   "outputs": [],
   "source": [
    "import pandas as pd"
   ]
  },
  {
   "cell_type": "markdown",
   "metadata": {},
   "source": [
    "## 2. Scripts"
   ]
  },
  {
   "cell_type": "code",
   "execution_count": null,
   "metadata": {},
   "outputs": [],
   "source": [
    "def transformar_data(data, coluna):\n",
    "    \"\"\"\n",
    "    Transforma uma coluna datetime em colunas separadas de ano, mês e dia.\n",
    "\n",
    "    Parâmetros:\n",
    "    - df (pd.DataFrame): DataFrame original.\n",
    "    - coluna (str): Nome da coluna com dados no formato datetime.\n",
    "\n",
    "    Retorna:\n",
    "    - pd.DataFrame: DataFrame com as colunas 'ano', 'mes' e 'dia' adicionadas.\n",
    "    \"\"\"\n",
    "    # garante que a coluna tá no formato datetime\n",
    "    data[coluna] = pd.to_datetime(data[coluna], errors='coerce')\n",
    "    \n",
    "    # cria as colunas de ano, mês e dia\n",
    "    data['ano'] = data[coluna].dt.year\n",
    "    data['mes'] = data[coluna].dt.month\n",
    "    data['dia'] = data[coluna].dt.day\n",
    "    \n",
    "    # remove a coluna original (opcional)\n",
    "    data = data.drop(columns=[coluna])\n",
    "    \n",
    "    return data"
   ]
  },
  {
   "cell_type": "markdown",
   "metadata": {},
   "source": [
    "---"
   ]
  },
  {
   "cell_type": "code",
   "execution_count": null,
   "metadata": {},
   "outputs": [],
   "source": [
    "def transformar_colunas_categoricas_dataset_teste(dataset_teste, mappings):\n",
    "    \"\"\"\n",
    "    Aplica o mapeamento de target encoding no DataFrame de teste.\n",
    "    \n",
    "    Args:\n",
    "        dataset_teste (pd.DataFrame): DataFrame de teste.\n",
    "        mappings (dict): Dicionário com os mapeamentos do treinamento.\n",
    "    \n",
    "    Returns:\n",
    "        pd.DataFrame: DataFrame de teste com as colunas encodadas.\n",
    "    \"\"\"\n",
    "\n",
    "    for col, mapping in mappings.items():\n",
    "        if col in dataset_teste.columns:\n",
    "            # substitui os valores originais pelos valores encodados\n",
    "            dataset_teste[col] = dataset_teste[col].map(mapping)\n",
    "            \n",
    "            # lida com valores não encontrados no mapeamento\n",
    "            dataset_teste[col].fillna(-1, inplace=True)  \n",
    "    \n",
    "    return dataset_teste"
   ]
  }
 ],
 "metadata": {
  "kernelspec": {
   "display_name": "indicium",
   "language": "python",
   "name": "python3"
  },
  "language_info": {
   "name": "python",
   "version": "3.13.1"
  }
 },
 "nbformat": 4,
 "nbformat_minor": 2
}
