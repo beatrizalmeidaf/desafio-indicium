{
 "cells": [
  {
   "cell_type": "markdown",
   "metadata": {},
   "source": [
    "## Enconding das Variáveis"
   ]
  },
  {
   "cell_type": "markdown",
   "metadata": {},
   "source": [
    "## 1. Importação de Bibliotecas"
   ]
  },
  {
   "cell_type": "code",
   "execution_count": 3,
   "metadata": {},
   "outputs": [],
   "source": [
    "import category_encoders as ce\n",
    "import pandas as pd"
   ]
  },
  {
   "cell_type": "markdown",
   "metadata": {},
   "source": [
    "## 2. Encoding"
   ]
  },
  {
   "cell_type": "code",
   "execution_count": 2,
   "metadata": {},
   "outputs": [],
   "source": [
    "def target_encoding(data, columns, target='price'):\n",
    "    \"\"\"\n",
    "    Realiza target encoding nas colunas especificadas e salva a associação\n",
    "    entre os valores originais e os valores codificados para serem usados posteriormente nos testes do modelo.\n",
    "    \n",
    "    Args:\n",
    "        data (pd.DataFrame): Dataframe de entrada\n",
    "        columns (list): Colunas para encodar\n",
    "        target (str): Variável alvo para encoding\n",
    "    \n",
    "    Returns:\n",
    "        pd.DataFrame: Dataframe com colunas encodadas por target\n",
    "        dict: Dicionário contendo as associações entre valores originais e encodados\n",
    "    \"\"\"\n",
    "    mappings = {}\n",
    "    \n",
    "    for col in columns:\n",
    "        # cria um codificador de target para a coluna\n",
    "        encoder = ce.TargetEncoder()\n",
    "        \n",
    "        # aplica o target encoding e salva o mapeamento dos valores\n",
    "        encoded_values = encoder.fit_transform(data[col], data[target])\n",
    "        mappings[col] = dict(zip(data[col], encoded_values[col]))\n",
    "        \n",
    "        # substitui a coluna original pelos valores encodados\n",
    "        data[col] = encoded_values[col]\n",
    "    \n",
    "    return data, mappings"
   ]
  },
  {
   "cell_type": "markdown",
   "metadata": {},
   "source": [
    "---"
   ]
  },
  {
   "cell_type": "code",
   "execution_count": 1,
   "metadata": {},
   "outputs": [],
   "source": [
    "def one_hot_encoding(data, columns):\n",
    "    \"\"\"\n",
    "    Realiza one-hot encoding nas colunas de menores dimensionalidade e converte \n",
    "    as colunas criadas para binário (0 e 1).\n",
    "    \n",
    "    Args:\n",
    "        data (pd.DataFrame): Dataframe de entrada.\n",
    "        columns (list): Colunas para one-hot encoding.\n",
    "    \n",
    "    Returns:\n",
    "        pd.DataFrame: Dataframe com colunas one-hot encodadas.\n",
    "    \"\"\"\n",
    "    # mantém o índice das colunas antes do encoding\n",
    "    colunas_originais = set(data.columns)\n",
    "    \n",
    "    # aplica get_dummies para criar encodings one-hot\n",
    "    data = pd.get_dummies(data, columns=columns)\n",
    "    \n",
    "    # identifica as novas colunas geradas pelo one-hot encoding\n",
    "    novas_colunas = list(set(data.columns) - colunas_originais)\n",
    "    \n",
    "    # converte as novas colunas para int (binário) pois antes estava saindo em True ou False\n",
    "    data[novas_colunas] = data[novas_colunas].astype(int)\n",
    "    \n",
    "    return data"
   ]
  }
 ],
 "metadata": {
  "kernelspec": {
   "display_name": "indicium",
   "language": "python",
   "name": "python3"
  },
  "language_info": {
   "codemirror_mode": {
    "name": "ipython",
    "version": 3
   },
   "file_extension": ".py",
   "mimetype": "text/x-python",
   "name": "python",
   "nbconvert_exporter": "python",
   "pygments_lexer": "ipython3",
   "version": "3.13.1"
  }
 },
 "nbformat": 4,
 "nbformat_minor": 2
}
