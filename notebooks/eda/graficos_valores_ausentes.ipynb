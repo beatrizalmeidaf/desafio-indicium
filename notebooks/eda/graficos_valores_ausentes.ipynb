{
 "cells": [
  {
   "cell_type": "markdown",
   "metadata": {},
   "source": [
    "# Tratamento de Valores Ausentes"
   ]
  },
  {
   "cell_type": "markdown",
   "metadata": {},
   "source": [
    "## 1. Importação Bibliotecas"
   ]
  },
  {
   "cell_type": "code",
   "execution_count": 3,
   "metadata": {},
   "outputs": [],
   "source": [
    "import matplotlib.pyplot as plt\n",
    "import matplotlib.dates as mdates\n",
    "import seaborn as sns"
   ]
  },
  {
   "cell_type": "markdown",
   "metadata": {},
   "source": [
    "## 2. Gráficos"
   ]
  },
  {
   "cell_type": "code",
   "execution_count": 6,
   "metadata": {},
   "outputs": [],
   "source": [
    "def plot_top_names(data, column, top_n=20):\n",
    "    \"\"\"\n",
    "    Gera um gráfico de barras com os nomes mais frequentes em uma coluna do dataset.\n",
    "\n",
    "    Parâmetros:\n",
    "    - data: DataFrame contendo os dados.\n",
    "    - column: Nome da coluna para análise de frequência.\n",
    "    - top_n: Número de valores mais frequentes a serem exibidos.\n",
    "    \"\"\"\n",
    "\n",
    "    # conta as frequências dos valores na coluna\n",
    "    name_counts = data[column].value_counts()\n",
    "    top_names = name_counts.head(top_n)\n",
    "    \n",
    "    # gráfico\n",
    "    plt.figure(figsize=(10, 6))\n",
    "    sns.barplot(\n",
    "        x=top_names.values,\n",
    "        y=top_names.index,\n",
    "        hue=top_names.index,\n",
    "        legend=False,\n",
    "        palette=sns.light_palette(\"#1C356A\", reverse=True, n_colors=len(top_names))\n",
    "    )\n",
    "    \n",
    "    plt.title(f'Frequência dos {top_n} Nomes Mais Comuns', fontsize=16, weight='bold')\n",
    "    plt.xlabel('Frequência', fontsize=14)\n",
    "    plt.ylabel(column, fontsize=14)\n",
    "    plt.grid(axis='x', linestyle='--', alpha=0.6)\n",
    "    sns.despine(left=True, bottom=True)\n",
    "    plt.tight_layout()\n",
    "    plt.show()\n"
   ]
  },
  {
   "cell_type": "markdown",
   "metadata": {},
   "source": [
    "---"
   ]
  },
  {
   "cell_type": "code",
   "execution_count": 2,
   "metadata": {},
   "outputs": [],
   "source": [
    "def plot_top_host_names(data, column, top_n=20):\n",
    "    \"\"\"\n",
    "    Gera um gráfico de barras com os host names mais frequentes em uma coluna do dataset.\n",
    "\n",
    "    Parâmetros:\n",
    "    - data: DataFrame contendo os dados.\n",
    "    - column: Nome da coluna para análise de frequência.\n",
    "    - top_n: Número de valores mais frequentes a serem exibidos.\n",
    "    \"\"\"\n",
    "    \n",
    "    # conta as frequências dos valores na coluna\n",
    "    host_name_counts = data[column].value_counts()\n",
    "    top_host_names = host_name_counts.head(top_n)\n",
    "    \n",
    "    plt.figure(figsize=(10, 6))\n",
    "    sns.barplot(\n",
    "        x=top_host_names.values,\n",
    "        y=top_host_names.index,\n",
    "        hue=top_host_names.index,\n",
    "        legend=False,\n",
    "        palette=sns.light_palette(\"#1C356A\", reverse=True, n_colors=len(top_host_names))\n",
    "    )\n",
    "    \n",
    "    plt.title(f'Frequência dos {top_n} Host Names Mais Comuns', fontsize=16, weight='bold')\n",
    "    plt.xlabel('Frequência', fontsize=14)\n",
    "    plt.ylabel(column, fontsize=14)\n",
    "    plt.grid(axis='x', linestyle='--', alpha=0.6)\n",
    "    sns.despine(left=True, bottom=True)\n",
    "    plt.tight_layout()\n",
    "    plt.show()"
   ]
  },
  {
   "cell_type": "markdown",
   "metadata": {},
   "source": [
    "---"
   ]
  },
  {
   "cell_type": "code",
   "execution_count": 4,
   "metadata": {},
   "outputs": [],
   "source": [
    "def plot_ultimo_review(data, column):\n",
    "    \"\"\"\n",
    "    Gera um gráfico de série temporal com a distribuição das últimas revisões.\n",
    "\n",
    "    Parâmetros:\n",
    "    - data: DataFrame contendo os dados.\n",
    "    - column: Nome da coluna contendo as datas para análise temporal.\n",
    "    \"\"\"\n",
    "    \n",
    "    # ordena os dados por data\n",
    "    sorted_data = data.sort_values(by=column)\n",
    "\n",
    "    plt.figure(figsize=(12, 6))\n",
    "    plt.plot(\n",
    "        sorted_data[column],\n",
    "        range(len(sorted_data)),\n",
    "        marker='o',\n",
    "        linestyle='-',\n",
    "        color='#1C356A',\n",
    "        label='Revisões'\n",
    "    )\n",
    "\n",
    "    plt.title('Distribuição Temporal das Últimas Revisões', fontsize=16, fontweight='bold', pad=15)\n",
    "    plt.xlabel('Data da Última Revisão', fontsize=12, labelpad=10)\n",
    "    plt.ylabel('Índice', fontsize=12, labelpad=10)\n",
    "\n",
    "    # formatação do eixo X\n",
    "    plt.gca().xaxis.set_major_formatter(mdates.DateFormatter('%b %Y'))  # formato: Mês Ano\n",
    "    plt.gca().xaxis.set_major_locator(mdates.MonthLocator(interval=6))  # intervalo de 6 meses\n",
    "    plt.xticks(rotation=45, fontsize=10)\n",
    "\n",
    "    plt.grid(color='gray', linestyle='--', linewidth=0.5, alpha=0.7)\n",
    "    plt.legend(fontsize=12, loc='upper left')\n",
    "    plt.tight_layout()\n",
    "\n",
    "    plt.show()"
   ]
  },
  {
   "cell_type": "markdown",
   "metadata": {},
   "source": [
    "---"
   ]
  },
  {
   "cell_type": "code",
   "execution_count": 5,
   "metadata": {},
   "outputs": [],
   "source": [
    "def plot_reviews_distribuicao(data, column, bins=30):\n",
    "    \"\"\"\n",
    "    Gera um histograma e um gráfico de densidade para os valores de uma coluna do dataset.\n",
    "\n",
    "    Parâmetros:\n",
    "    - data: DataFrame contendo os dados.\n",
    "    - column: Nome da coluna para análise de distribuição.\n",
    "    - bins: Número de bins no histograma.\n",
    "    \"\"\"\n",
    "\n",
    "    # armazena os valores da coluna\n",
    "    reviews_values = data[column].values\n",
    "\n",
    "    fig, ax = plt.subplots(1, 2, figsize=(18, 6))\n",
    "\n",
    "    # gráfico de histograma\n",
    "    sns.histplot(reviews_values, bins=bins, kde=False, color='#1C356A', edgecolor='black', ax=ax[0])\n",
    "    ax[0].set_title('Histograma dos Reviews por Mês', fontsize=14, fontweight='bold')\n",
    "    ax[0].set_xlabel('Reviews por Mês', fontsize=12)\n",
    "    ax[0].set_ylabel('Frequência', fontsize=12)\n",
    "    ax[0].grid(axis='y', linestyle='--', linewidth=0.5, alpha=0.7)\n",
    "\n",
    "    # gráfico de densidade\n",
    "    sns.kdeplot(reviews_values, color='r', fill=True, alpha=0.6, ax=ax[1])\n",
    "    ax[1].set_title('Densidade dos Reviews por Mês', fontsize=14, fontweight='bold')\n",
    "    ax[1].set_xlabel('Reviews por Mês', fontsize=12)\n",
    "    ax[1].set_ylabel('Densidade', fontsize=12)\n",
    "    ax[1].grid(axis='y', linestyle='--', linewidth=0.5, alpha=0.7)\n",
    "\n",
    "\n",
    "    plt.tight_layout()\n",
    "    plt.show()"
   ]
  }
 ],
 "metadata": {
  "kernelspec": {
   "display_name": "indicium",
   "language": "python",
   "name": "python3"
  },
  "language_info": {
   "codemirror_mode": {
    "name": "ipython",
    "version": 3
   },
   "file_extension": ".py",
   "mimetype": "text/x-python",
   "name": "python",
   "nbconvert_exporter": "python",
   "pygments_lexer": "ipython3",
   "version": "3.13.1"
  }
 },
 "nbformat": 4,
 "nbformat_minor": 2
}
