{
 "cells": [
  {
   "cell_type": "markdown",
   "metadata": {},
   "source": [
    "# Análise - Nome do Local e Preço\n"
   ]
  },
  {
   "cell_type": "markdown",
   "metadata": {},
   "source": [
    "# 1. Importação Bibliotecas"
   ]
  },
  {
   "cell_type": "code",
   "execution_count": 1,
   "metadata": {},
   "outputs": [],
   "source": [
    "import pandas as pd\n",
    "import matplotlib.pyplot as plt"
   ]
  },
  {
   "cell_type": "markdown",
   "metadata": {},
   "source": [
    "## 2. Análise"
   ]
  },
  {
   "cell_type": "code",
   "execution_count": 3,
   "metadata": {},
   "outputs": [],
   "source": [
    "def analisar_precos_por_bairro(data, bairros_originais, bairros_group_originais):\n",
    "\n",
    "    # DataFrame que combina grupo e bairro original em relação ao preço\n",
    "    media_price_detalhado = data.groupby(['bairro_group_original', 'bairro_original'])['price'].agg(['mean', 'count']).reset_index()\n",
    "    \n",
    "    # ordenar por preço médio em ordem decrescente\n",
    "    media_price_detalhado = media_price_detalhado.sort_values('mean', ascending=False)\n",
    "    \n",
    "    # gráfico com top 10 maiores\n",
    "    plt.figure(figsize=(18, 6))\n",
    "    \n",
    "    # gráfico de barras horizontais para melhor legibilidade\n",
    "    top_10 = media_price_detalhado.head(10)\n",
    "    \n",
    "    plt.barh(top_10['bairro_original'] + ' (' + top_10['bairro_group_original'] + ')', \n",
    "             top_10['mean'], \n",
    "             color='navy')\n",
    "    \n",
    "    plt.title(\"Top 10 Bairros por Preço Médio\", fontsize=15)\n",
    "    plt.xlabel(\"Preço Médio\", fontsize=12)\n",
    "    plt.ylabel(\"Bairro (Grupo)\", fontsize=12)\n",
    "    \n",
    "    # valores maiores no começo do gráfico\n",
    "    plt.gca().invert_yaxis()\n",
    "\n",
    "    # adiciona os valores de preço médio nas barras\n",
    "    for i, v in enumerate(top_10['mean']):\n",
    "        plt.text(v, i, f' ${v:,.2f}', va='center', fontweight='bold')\n",
    "    \n",
    "    plt.tight_layout()\n",
    "    plt.show()\n",
    "    \n",
    "    print(\"Top 10 Bairros por Preço Médio:\")\n",
    "    print(media_price_detalhado.head(10).to_string(index=False))\n",
    "    \n",
    "    return media_price_detalhado"
   ]
  }
 ],
 "metadata": {
  "kernelspec": {
   "display_name": "indicium",
   "language": "python",
   "name": "python3"
  },
  "language_info": {
   "codemirror_mode": {
    "name": "ipython",
    "version": 3
   },
   "file_extension": ".py",
   "mimetype": "text/x-python",
   "name": "python",
   "nbconvert_exporter": "python",
   "pygments_lexer": "ipython3",
   "version": "3.13.1"
  }
 },
 "nbformat": 4,
 "nbformat_minor": 2
}
