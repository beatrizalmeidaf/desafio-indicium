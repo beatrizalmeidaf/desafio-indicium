{
 "cells": [
  {
   "cell_type": "markdown",
   "metadata": {},
   "source": [
    "# Verificar se o número mínimo de noites e a disponibilidade ao longo do ano interferem no preço"
   ]
  },
  {
   "cell_type": "markdown",
   "metadata": {},
   "source": [
    "## 1. Importação Bibliotecas"
   ]
  },
  {
   "cell_type": "code",
   "execution_count": 1,
   "metadata": {},
   "outputs": [],
   "source": [
    "import matplotlib.pyplot as plt\n",
    "import seaborn as sns"
   ]
  },
  {
   "cell_type": "markdown",
   "metadata": {},
   "source": [
    "## 2. Análise das Relações"
   ]
  },
  {
   "cell_type": "code",
   "execution_count": 1,
   "metadata": {},
   "outputs": [],
   "source": [
    "def scatter_plot(data):\n",
    "    \"\"\"\n",
    "    Plota gráficos de dispersão para analisar a relação entre 'minimo_noites',\n",
    "    'disponibilidade_365' e 'price'.\n",
    "\n",
    "    Parâmetros:\n",
    "    data (DataFrame): DataFrame contendo as colunas 'minimo_noites', \n",
    "                      'disponibilidade_365' e 'price'.\n",
    "\n",
    "    Retorno:\n",
    "    None\n",
    "    \"\"\"\n",
    "\n",
    "    plt.figure(figsize=(16, 6))\n",
    "\n",
    "    # scatter plot 1: minimo_noites vs price\n",
    "    plt.subplot(1, 2, 1)\n",
    "    sns.scatterplot(\n",
    "        x=data['minimo_noites'], \n",
    "        y=data['price'], \n",
    "        alpha=0.7, \n",
    "        color=\"#189FDB\"\n",
    "    )\n",
    "    plt.title('Relação entre Mínimo de Noites e Preço')\n",
    "    plt.xlabel('Mínimo de Noites')\n",
    "    plt.ylabel('Preço')\n",
    "\n",
    "    # scatter plot 2: disponibilidade_365 vs price\n",
    "    plt.subplot(1, 2, 2)\n",
    "    sns.scatterplot(\n",
    "        x=data['disponibilidade_365'], \n",
    "        y=data['price'], \n",
    "        alpha=0.7, \n",
    "        color=\"#1C356A\"\n",
    "    )\n",
    "    plt.title('Relação entre Disponibilidade 365 e Preço')\n",
    "    plt.xlabel('Disponibilidade (em dias)')\n",
    "    plt.ylabel('Preço')\n",
    "\n",
    "    plt.tight_layout()\n",
    "    plt.show()"
   ]
  }
 ],
 "metadata": {
  "kernelspec": {
   "display_name": "indicium",
   "language": "python",
   "name": "python3"
  },
  "language_info": {
   "codemirror_mode": {
    "name": "ipython",
    "version": 3
   },
   "file_extension": ".py",
   "mimetype": "text/x-python",
   "name": "python",
   "nbconvert_exporter": "python",
   "pygments_lexer": "ipython3",
   "version": "3.13.1"
  }
 },
 "nbformat": 4,
 "nbformat_minor": 2
}
