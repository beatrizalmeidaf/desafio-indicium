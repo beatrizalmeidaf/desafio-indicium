{
 "cells": [
  {
   "cell_type": "markdown",
   "metadata": {},
   "source": [
    "# Análise Gráfica e Resumo de Dados"
   ]
  },
  {
   "cell_type": "markdown",
   "metadata": {},
   "source": [
    "## 1. Importação de Bibliotecas"
   ]
  },
  {
   "cell_type": "code",
   "execution_count": 3,
   "metadata": {},
   "outputs": [],
   "source": [
    "import folium"
   ]
  },
  {
   "cell_type": "markdown",
   "metadata": {},
   "source": [
    "## 2. Análise Gráfica"
   ]
  },
  {
   "cell_type": "code",
   "execution_count": 4,
   "metadata": {},
   "outputs": [],
   "source": [
    "def criar_mapa_apartamentos(data):\n",
    "    \n",
    "    # criação do mapa centralizado pela média das coordenadas\n",
    "    mapa = folium.Map(\n",
    "        location=[data['latitude'].mean(), data['longitude'].mean()],\n",
    "        zoom_start=12\n",
    "    )\n",
    "    \n",
    "    # marcadores de círculo coloridos\n",
    "    for _, row in data.iterrows():\n",
    "        # definição de cor baseada no preço e número de reviews\n",
    "        if row['price'] < 50 and row['numero_de_reviews'] > 100:\n",
    "            cor = 'green'\n",
    "        elif row['price'] < 100 and row['numero_de_reviews'] > 50:\n",
    "            cor = 'yellow'\n",
    "        elif row['price'] < 200:\n",
    "            cor = 'orange'\n",
    "        else:\n",
    "            cor = 'red'\n",
    "        \n",
    "        # adição do marcador ao mapa\n",
    "        folium.CircleMarker(\n",
    "            location=[row['latitude'], row['longitude']],\n",
    "            radius=8,\n",
    "            color=cor,\n",
    "            fill=True,\n",
    "            fill_color=cor,\n",
    "            fill_opacity=0.6,\n",
    "            popup=f\"Bairro: {row['bairro']}, Preço: ${row['price']}, Reviews: {row['numero_de_reviews']}\" # quando clicar em cima do circulo verá essas informações\n",
    "        ).add_to(mapa)\n",
    "    \n",
    "    return mapa"
   ]
  },
  {
   "cell_type": "markdown",
   "metadata": {},
   "source": [
    "## Análise de Bairros"
   ]
  },
  {
   "cell_type": "code",
   "execution_count": 7,
   "metadata": {},
   "outputs": [],
   "source": [
    "def analisar_bairros(data):\n",
    "\n",
    "    def definir_cor(row):\n",
    "        if row['price'] < 50 and row['numero_de_reviews'] > 100:\n",
    "            return 'green'\n",
    "        elif row['price'] < 100 and row['numero_de_reviews'] > 50:\n",
    "            return 'yellow'\n",
    "        elif row['price'] < 200:\n",
    "            return 'orange'\n",
    "        else:\n",
    "            return 'red'\n",
    "    \n",
    "    data['cor'] = data.apply(definir_cor, axis=1)\n",
    "    \n",
    "    cores = ['green', 'yellow', 'orange', 'red']\n",
    "    \n",
    "    resumo_bairros = data.groupby('bairro_original')['cor'].value_counts().unstack(fill_value=0)\n",
    "    \n",
    "    # adicionar colunas de cores ausentes se elas não existirem\n",
    "    for cor in cores:\n",
    "        if cor not in resumo_bairros.columns:\n",
    "            resumo_bairros[cor] = 0\n",
    "    \n",
    "    resumo_percentual = resumo_bairros.div(resumo_bairros.sum(axis=1), axis=0) * 100\n",
    "    \n",
    "    # ordenação por soma de percentuais de green e yellow (bons investimentos)\n",
    "    bairros_ordenados = resumo_percentual.assign(\n",
    "        total_verde_amarelo=resumo_percentual['green'] + resumo_percentual['yellow']\n",
    "    ).sort_values('total_verde_amarelo', ascending=False)\n",
    "    \n",
    "    # resumo na saída do notebook\n",
    "    output_lines = []\n",
    "    output_lines.append(\"Análise de Bairros para Aluguel (Ordenados por Green e Yellow):\\n\")\n",
    "    \n",
    "    for bairro in bairros_ordenados.index:\n",
    "        linhas_bairro = [f\"Bairro: {bairro}\", f\"Total de imóveis: {resumo_bairros.loc[bairro].sum()}\"]\n",
    "        for cor in cores:\n",
    "            percentual = resumo_percentual.loc[bairro, cor]\n",
    "            if percentual > 0:\n",
    "                if cor == 'green':\n",
    "                    linhas_bairro.append(f\"Green (Ótimo para aluguel): {percentual:.2f}%\")\n",
    "                elif cor == 'yellow':\n",
    "                    linhas_bairro.append(f\"Yellow (Bom para aluguel): {percentual:.2f}%\")\n",
    "                elif cor == 'orange':\n",
    "                    linhas_bairro.append(f\"Orange (Intermediário): {percentual:.2f}%\")\n",
    "                elif cor == 'red':\n",
    "                    linhas_bairro.append(f\"Red (Menos recomendado): {percentual:.2f}%\")\n",
    "        linhas_bairro.append(\"\\n\")\n",
    "        output_lines.append(\"\\n\".join(linhas_bairro))\n",
    "    \n",
    "    # imprimir as primeiras análises\n",
    "    print(\"\\n\".join(output_lines[:5]))  \n",
    "\n",
    "    # salvar toda a análise em um txt\n",
    "    with open(\"data/analise_investimento_ap.txt\", \"w\") as f:\n",
    "        f.write(\"\\n\".join(output_lines))\n",
    "\n",
    "    print(\"Arquivo txt salvo com sucesso na pasta 'data'\")\n",
    "    \n",
    "    return resumo_bairros, resumo_percentual"
   ]
  }
 ],
 "metadata": {
  "kernelspec": {
   "display_name": "indicium",
   "language": "python",
   "name": "python3"
  },
  "language_info": {
   "codemirror_mode": {
    "name": "ipython",
    "version": 3
   },
   "file_extension": ".py",
   "mimetype": "text/x-python",
   "name": "python",
   "nbconvert_exporter": "python",
   "pygments_lexer": "ipython3",
   "version": "3.13.1"
  }
 },
 "nbformat": 4,
 "nbformat_minor": 2
}
