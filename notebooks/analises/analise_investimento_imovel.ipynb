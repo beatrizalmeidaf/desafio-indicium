{
 "cells": [
  {
   "cell_type": "markdown",
   "metadata": {},
   "source": [
    "# Análise Gráfica e Resumo de Dados"
   ]
  },
  {
   "cell_type": "markdown",
   "metadata": {},
   "source": [
    "## 1. Importação de Bibliotecas"
   ]
  },
  {
   "cell_type": "code",
   "execution_count": 3,
   "metadata": {},
   "outputs": [],
   "source": [
    "import folium"
   ]
  },
  {
   "cell_type": "markdown",
   "metadata": {},
   "source": [
    "## 2. Análise Gráfica"
   ]
  },
  {
   "cell_type": "code",
   "execution_count": 4,
   "metadata": {},
   "outputs": [],
   "source": [
    "def criar_mapa_apartamentos(data):\n",
    "    \"\"\"\n",
    "    Cria um mapa interativo de apartamentos com marcadores coloridos baseados em preço e número de reviews.\n",
    "    \n",
    "    Parâmetros:\n",
    "    - data: DataFrame contendo informações de apartamentos, incluindo latitude, longitude, preço e número de reviews\n",
    "    \n",
    "    Etapas:\n",
    "    1. Centraliza o mapa na média das coordenadas do conjunto de dados\n",
    "    2. Adiciona marcadores de círculo com cores variadas:\n",
    "       - Verde: Preço < $50 e mais de 100 reviews\n",
    "       - Amarelo: Preço < $100 e mais de 50 reviews\n",
    "       - Laranja: Preço < $200\n",
    "       - Vermelho: Preço >= $200\n",
    "    3. Cada marcador inclui popup com informações do apartamento (bairro, preço, número de reviews)\n",
    "    \n",
    "    Retorna um objeto de mapa interativo criado com Folium.\n",
    "    \"\"\"\n",
    "    \n",
    "    # criação do mapa centralizado pela média das coordenadas\n",
    "    mapa = folium.Map(\n",
    "        location=[data['latitude'].mean(), data['longitude'].mean()],\n",
    "        zoom_start=12\n",
    "    )\n",
    "    \n",
    "    # marcadores de círculo coloridos\n",
    "    for _, row in data.iterrows():\n",
    "        # definição de cor baseada no preço e número de reviews\n",
    "        if row['price'] < 50 and row['numero_de_reviews'] > 100:\n",
    "            cor = 'green'\n",
    "        elif row['price'] < 100 and row['numero_de_reviews'] > 50:\n",
    "            cor = 'yellow'\n",
    "        elif row['price'] < 200:\n",
    "            cor = 'orange'\n",
    "        else:\n",
    "            cor = 'red'\n",
    "        \n",
    "        # adição do marcador ao mapa\n",
    "        folium.CircleMarker(\n",
    "            location=[row['latitude'], row['longitude']],\n",
    "            radius=8,\n",
    "            color=cor,\n",
    "            fill=True,\n",
    "            fill_color=cor,\n",
    "            fill_opacity=0.6,\n",
    "            popup=f\"Bairro: {row['bairro']}, Preço: ${row['price']}, Reviews: {row['numero_de_reviews']}\" # quando clicar em cima do circulo verá essas informações\n",
    "        ).add_to(mapa)\n",
    "    \n",
    "    return mapa"
   ]
  },
  {
   "cell_type": "markdown",
   "metadata": {},
   "source": [
    "## 3. Análise de Bairros"
   ]
  },
  {
   "cell_type": "code",
   "execution_count": 7,
   "metadata": {},
   "outputs": [],
   "source": [
    "def analisar_bairros(data):\n",
    "    \"\"\"\n",
    "    Analisa características de bairros para potencial investimento em aluguel.\n",
    "    \n",
    "    Parâmetros:\n",
    "    - data: DataFrame com informações de apartamentos\n",
    "    \n",
    "    Etapas:\n",
    "    1. Classifica imóveis por cores baseadas em preço e número de reviews:\n",
    "       - Verde: Preço < $50 e +100 reviews (Ótimo para aluguel)\n",
    "       - Amarelo: Preço < $100 e +50 reviews (Bom para aluguel)\n",
    "       - Laranja: Preço < $200 (Intermediário)\n",
    "       - Vermelho: Preço >= $200 (Menos recomendado)\n",
    "    \n",
    "    2. Calcula distribuição percentual de cores por bairro\n",
    "    3. Ordena bairros pelo percentual de imóveis verdes e amarelos\n",
    "    4. Gera relatório detalhado de análise de investimento\n",
    "    5. Salva relatório em arquivo txt\n",
    "    \n",
    "    Retorna:\n",
    "    - DataFrame de contagem de imóveis por cor e bairro\n",
    "    - DataFrame de percentuais de imóveis por cor e bairro\n",
    "    \"\"\"\n",
    "\n",
    "    def definir_cor(row):\n",
    "        if row['price'] < 50 and row['numero_de_reviews'] > 100:\n",
    "            return 'green'\n",
    "        elif row['price'] < 100 and row['numero_de_reviews'] > 50:\n",
    "            return 'yellow'\n",
    "        elif row['price'] < 200:\n",
    "            return 'orange'\n",
    "        else:\n",
    "            return 'red'\n",
    "    \n",
    "    data['cor'] = data.apply(definir_cor, axis=1)\n",
    "    \n",
    "    cores = ['green', 'yellow', 'orange', 'red']\n",
    "    \n",
    "    resumo_bairros = data.groupby('bairro_original')['cor'].value_counts().unstack(fill_value=0)\n",
    "    \n",
    "    # adiciona colunas de cores ausentes se elas não existirem\n",
    "    for cor in cores:\n",
    "        if cor not in resumo_bairros.columns:\n",
    "            resumo_bairros[cor] = 0\n",
    "    \n",
    "    resumo_percentual = resumo_bairros.div(resumo_bairros.sum(axis=1), axis=0) * 100\n",
    "    \n",
    "    # ordenação por soma de percentuais de green e yellow (bons investimentos)\n",
    "    bairros_ordenados = resumo_percentual.assign(\n",
    "        total_verde_amarelo=resumo_percentual['green'] + resumo_percentual['yellow']\n",
    "    ).sort_values('total_verde_amarelo', ascending=False)\n",
    "    \n",
    "    # resumo na saída do notebook\n",
    "    output_lines = []\n",
    "    output_lines.append(\"Análise de Bairros para Aluguel (Ordenado por Avaliação de Potencial Investimento):\\n\")\n",
    "    \n",
    "    for bairro in bairros_ordenados.index:\n",
    "        linhas_bairro = [f\"Bairro: {bairro}\", f\"Total de imóveis: {resumo_bairros.loc[bairro].sum()}\"]\n",
    "        for cor in cores:\n",
    "            percentual = resumo_percentual.loc[bairro, cor]\n",
    "            if percentual > 0:\n",
    "                if cor == 'green':\n",
    "                    linhas_bairro.append(f\"Green (Ótimo para aluguel): {percentual:.2f}%\")\n",
    "                elif cor == 'yellow':\n",
    "                    linhas_bairro.append(f\"Yellow (Bom para aluguel): {percentual:.2f}%\")\n",
    "                elif cor == 'orange':\n",
    "                    linhas_bairro.append(f\"Orange (Intermediário): {percentual:.2f}%\")\n",
    "                elif cor == 'red':\n",
    "                    linhas_bairro.append(f\"Red (Menos recomendado): {percentual:.2f}%\")\n",
    "        linhas_bairro.append(\"\\n\")\n",
    "        output_lines.append(\"\\n\".join(linhas_bairro))\n",
    "    \n",
    "    # imprime as primeiras análises\n",
    "    print(\"\\n\".join(output_lines[:5]))  \n",
    "\n",
    "    # salva toda a análise em um txt\n",
    "    with open(\"data/analise_investimento_ap.txt\", \"w\") as f:\n",
    "        f.write(\"\\n\".join(output_lines))\n",
    "\n",
    "    print(\"Arquivo txt salvo com sucesso na pasta 'data'\")\n",
    "    \n",
    "    return resumo_bairros, resumo_percentual"
   ]
  }
 ],
 "metadata": {
  "kernelspec": {
   "display_name": "indicium",
   "language": "python",
   "name": "python3"
  },
  "language_info": {
   "codemirror_mode": {
    "name": "ipython",
    "version": 3
   },
   "file_extension": ".py",
   "mimetype": "text/x-python",
   "name": "python",
   "nbconvert_exporter": "python",
   "pygments_lexer": "ipython3",
   "version": "3.13.1"
  }
 },
 "nbformat": 4,
 "nbformat_minor": 2
}
