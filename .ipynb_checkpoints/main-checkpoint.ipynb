{
 "cells": [
  {
   "cell_type": "markdown",
   "metadata": {},
   "source": [
    "# Desafio Lighthouse Indicium - Cientista de Dados"
   ]
  },
  {
   "cell_type": "markdown",
   "metadata": {},
   "source": [
    "Esse projeto foi desenvolvido em parceria com o programa Lighthouse Indicium, no contexto de um cliente que está criando uma plataforma de aluguéis temporários na cidade de Nova York. O principal objetivo é realizar uma análise exploratória de dados do maior concorrente e, com base nesses dados, desenvolver e validar um modelo preditivo de preços.\n",
    "\n",
    "A estratégia do projeto inclui:\n",
    "\n",
    "- Análise Exploratória de Dados (EDA): Identificação de padrões, tendências e variáveis relevantes para a precificação.\n",
    "- Desenvolvimento do Modelo: Construção de um modelo preditivo para estimar preços com base nos dados fornecidos.\n",
    "- Validação e Avaliação: Aplicação de métricas de avaliação apropriadas ao problema, garantindo que o modelo seja confiável e interprete os dados corretamente.\n",
    "  \n",
    "O resultado final será uma base sólida para a estratégia de precificação da plataforma, oferecendo insights competitivos e suporte à tomada de decisão do cliente."
   ]
  },
  {
   "cell_type": "markdown",
   "metadata": {},
   "source": [
    "---"
   ]
  },
  {
   "cell_type": "markdown",
   "metadata": {},
   "source": [
    "## 1. Importação de Bibliotecas"
   ]
  },
  {
   "cell_type": "code",
   "execution_count": 6,
   "metadata": {},
   "outputs": [
    {
     "ename": "ModuleNotFoundError",
     "evalue": "No module named 'import_ipynb'",
     "output_type": "error",
     "traceback": [
      "\u001b[1;31m---------------------------------------------------------------------------\u001b[0m",
      "\u001b[1;31mModuleNotFoundError\u001b[0m                       Traceback (most recent call last)",
      "Cell \u001b[1;32mIn[6], line 9\u001b[0m\n\u001b[0;32m      7\u001b[0m \u001b[38;5;28;01mimport\u001b[39;00m \u001b[38;5;21;01mcategory_encoders\u001b[39;00m \u001b[38;5;28;01mas\u001b[39;00m \u001b[38;5;21;01mce\u001b[39;00m \u001b[38;5;66;03m# enconding de variáveis\u001b[39;00m\n\u001b[0;32m      8\u001b[0m \u001b[38;5;28;01mfrom\u001b[39;00m \u001b[38;5;21;01msklearn\u001b[39;00m\u001b[38;5;21;01m.\u001b[39;00m\u001b[38;5;21;01mpreprocessing\u001b[39;00m \u001b[38;5;28;01mimport\u001b[39;00m LabelEncoder \u001b[38;5;66;03m# enconding de variáveis\u001b[39;00m\n\u001b[1;32m----> 9\u001b[0m \u001b[38;5;28;01mimport\u001b[39;00m \u001b[38;5;21;01mimport_ipynb\u001b[39;00m\n",
      "\u001b[1;31mModuleNotFoundError\u001b[0m: No module named 'import_ipynb'"
     ]
    }
   ],
   "source": [
    "import pandas as pd\n",
    "import numpy as np\n",
    "import matplotlib.pyplot as plt\n",
    "import matplotlib.dates as mdates\n",
    "import seaborn as sns\n",
    "import statistics as sts\n",
    "import category_encoders as ce # enconding de variáveis\n",
    "from sklearn.preprocessing import LabelEncoder # enconding de variáveis\n",
    "import import_ipynb # navegar entre notebooks do jupyter"
   ]
  },
  {
   "cell_type": "markdown",
   "metadata": {},
   "source": [
    "---\n",
    "\n",
    "## 2. Importação Dataset"
   ]
  },
  {
   "cell_type": "code",
   "execution_count": null,
   "metadata": {},
   "outputs": [],
   "source": [
    "data = pd.read_csv('data/teste_indicium_precificacao.csv')\n",
    "data.head(5)"
   ]
  },
  {
   "cell_type": "markdown",
   "metadata": {},
   "source": [
    "### 2.1 - Resumo de Dados\n",
    "\n",
    "    - id: Atua como uma chave exclusiva para cada anúncio nos dados do aplicativo\n",
    "    - nome: Representa o nome do anúncio\n",
    "    - host_id: Representa o id do usuário que hospedou o anúncio\n",
    "    - host_name: Contém o nome do usuário que hospedou o anúncio\n",
    "    - bairro_group: Contém o nome do bairro onde o anúncio está localizado\n",
    "    - bairro: Contém o nome da área onde o anúncio está localizado\n",
    "    - latitude: Contém a latitude do local\n",
    "    - longitude: Contém a longitude do local\n",
    "    - room_type: Contém o tipo de espaço de cada anúncio\n",
    "    - price: Contém o preço por noite em dólares listado pelo antrião\n",
    "    - minimo_noites: Contém o número mínimo de noites que o usuário deve reservar\n",
    "    - numero_de_reviews: Contém o número de comentários dados a cada listagem\n",
    "    - ultima_review: Contém a data da última revisão dada à listagem\n",
    "    - reviews_por_mes: Contém o número de avaliações fornecidas por mês\n",
    "    - calculado_host_listings_count: Contém a quantidade de listagem por host\n",
    "    - disponibilidade_365: Contém o número de dias em que o anúncio está disponível para reserva\n"
   ]
  },
  {
   "cell_type": "markdown",
   "metadata": {},
   "source": [
    "---\n",
    "\n",
    "## 3. Análise Exploratória dos Dados (EDA)"
   ]
  },
  {
   "cell_type": "code",
   "execution_count": null,
   "metadata": {},
   "outputs": [],
   "source": [
    "data.shape"
   ]
  },
  {
   "cell_type": "code",
   "execution_count": null,
   "metadata": {},
   "outputs": [],
   "source": [
    "data.info()"
   ]
  },
  {
   "cell_type": "code",
   "execution_count": null,
   "metadata": {},
   "outputs": [],
   "source": [
    "data.isnull().sum()"
   ]
  },
  {
   "cell_type": "markdown",
   "metadata": {},
   "source": [
    "#### Analisar valores ausentes em:\n",
    "\n",
    "- 'nome'\n",
    "- 'host_name'\n",
    "- 'ultima_review'\n",
    "- 'reviews_por_mes'"
   ]
  },
  {
   "cell_type": "code",
   "execution_count": null,
   "metadata": {},
   "outputs": [],
   "source": [
    "data.describe()"
   ]
  },
  {
   "cell_type": "markdown",
   "metadata": {},
   "source": [
    "#### Analisar possíveis outliers em:\n",
    "\n",
    "- 'price'\n",
    "- 'minimo_noites'\n",
    "- 'numero_de_reviews'\n",
    "- 'reviews_por_mes'\n",
    "- 'calculado_host_listings_count'"
   ]
  },
  {
   "cell_type": "markdown",
   "metadata": {},
   "source": [
    "---\n",
    "### 3.1 - Análise e Tratamento de Valores Ausentes\n",
    "\n",
    "#### • 'nome': coluna de variáveis qualitativas nominais"
   ]
  },
  {
   "cell_type": "code",
   "execution_count": null,
   "metadata": {},
   "outputs": [],
   "source": [
    "data['nome'].isnull().sum()"
   ]
  },
  {
   "cell_type": "code",
   "execution_count": null,
   "metadata": {},
   "outputs": [],
   "source": [
    "nome_counts = data['nome'].value_counts()\n",
    "nome_counts"
   ]
  },
  {
   "cell_type": "code",
   "execution_count": null,
   "metadata": {},
   "outputs": [],
   "source": [
    "from notebooks.eda.graficos_valores_ausentes import plot_top_names\n",
    "\n",
    "plot_top_names(data, column='nome', top_n=20)"
   ]
  },
  {
   "cell_type": "markdown",
   "metadata": {},
   "source": [
    "##### Com base nessa análise, iremos filtrar os valores ausentes com a moda da coluna 'nome', ou seja, o valor mais frequente que nesse caso é 'Hillside Hotel'"
   ]
  },
  {
   "cell_type": "code",
   "execution_count": null,
   "metadata": {},
   "outputs": [],
   "source": [
    "moda_nomes = sts.mode(data['nome'])\n",
    "moda_nomes"
   ]
  },
  {
   "cell_type": "code",
   "execution_count": null,
   "metadata": {},
   "outputs": [],
   "source": [
    "data['nome'] = data['nome'].fillna(moda_nomes)\n",
    "data['nome'].isnull().sum()"
   ]
  },
  {
   "cell_type": "markdown",
   "metadata": {},
   "source": [
    "\n",
    "#### • 'host_name': coluna de variáveis qualitativas nominais"
   ]
  },
  {
   "cell_type": "code",
   "execution_count": null,
   "metadata": {},
   "outputs": [],
   "source": [
    "data['host_name'].isnull().sum()"
   ]
  },
  {
   "cell_type": "code",
   "execution_count": null,
   "metadata": {},
   "outputs": [],
   "source": [
    "host_name_counts = data['host_name'].value_counts()\n",
    "host_name_counts"
   ]
  },
  {
   "cell_type": "code",
   "execution_count": null,
   "metadata": {},
   "outputs": [],
   "source": [
    "from notebooks.eda.graficos_valores_ausentes import plot_top_host_names\n",
    "\n",
    "plot_top_host_names(data, column='host_name', top_n=20)"
   ]
  },
  {
   "cell_type": "markdown",
   "metadata": {},
   "source": [
    "##### Com base nessa análise, iremos filtrar os valores ausentes com a moda da coluna 'host_name', ou seja, o valor mais frequente que nesse caso é 'Michael'"
   ]
  },
  {
   "cell_type": "code",
   "execution_count": null,
   "metadata": {},
   "outputs": [],
   "source": [
    "moda_host_name = sts.mode(data['host_name'])\n",
    "moda_host_name"
   ]
  },
  {
   "cell_type": "code",
   "execution_count": null,
   "metadata": {},
   "outputs": [],
   "source": [
    "data['host_name'].fillna(moda_host_name)\n",
    "data['host_name'].isnull().sum()"
   ]
  },
  {
   "cell_type": "markdown",
   "metadata": {},
   "source": [
    "\n",
    "#### • 'ultima_review': coluna de variáveis qualitativas ordinais"
   ]
  },
  {
   "cell_type": "code",
   "execution_count": null,
   "metadata": {},
   "outputs": [],
   "source": [
    "data['ultima_review'].isnull().sum()"
   ]
  },
  {
   "cell_type": "code",
   "execution_count": null,
   "metadata": {},
   "outputs": [],
   "source": [
    "# converter a coluna para o tipo datetime\n",
    "data['ultima_review'] = pd.to_datetime(data['ultima_review'], errors='coerce')"
   ]
  },
  {
   "cell_type": "code",
   "execution_count": null,
   "metadata": {},
   "outputs": [],
   "source": [
    "ultima_review_counts = data['ultima_review'].value_counts()\n",
    "ultima_review_counts"
   ]
  },
  {
   "cell_type": "code",
   "execution_count": null,
   "metadata": {},
   "outputs": [],
   "source": [
    "from notebooks.eda.graficos_valores_ausentes import plot_ultimo_review\n",
    "\n",
    "plot_ultimo_review(data, column='ultima_review')"
   ]
  },
  {
   "cell_type": "markdown",
   "metadata": {},
   "source": [
    "##### Com base nessa análise, iremos filtrar os valores ausentes com a moda da coluna 'ultima_review', ou seja, o valor mais frequente que nesse caso é '2019-06-23'. Percebe-se a crescente ao longo dos anos do número de comentários dados a cada listagem."
   ]
  },
  {
   "cell_type": "code",
   "execution_count": null,
   "metadata": {},
   "outputs": [],
   "source": [
    "moda_ultima_review = data['ultima_review'].mode()[0]\n",
    "print(moda_ultima_review)"
   ]
  },
  {
   "cell_type": "code",
   "execution_count": null,
   "metadata": {},
   "outputs": [],
   "source": [
    "data['ultima_review'] = data['ultima_review'].fillna(moda_ultima_review)\n",
    "data['ultima_review'].isnull().sum()"
   ]
  },
  {
   "cell_type": "markdown",
   "metadata": {},
   "source": [
    "\n",
    "#### • 'reviews_por_mes': coluna de variáveis quantitativas contínuas"
   ]
  },
  {
   "cell_type": "code",
   "execution_count": null,
   "metadata": {},
   "outputs": [],
   "source": [
    "data['reviews_por_mes'].isnull().sum()"
   ]
  },
  {
   "cell_type": "code",
   "execution_count": null,
   "metadata": {},
   "outputs": [],
   "source": [
    "data['reviews_por_mes'].value_counts()"
   ]
  },
  {
   "cell_type": "code",
   "execution_count": null,
   "metadata": {},
   "outputs": [],
   "source": [
    "agrupado_reviews_mensais = data.groupby(['reviews_por_mes']).size()\n",
    "agrupado_reviews_mensais.sort_values(ascending=False)"
   ]
  },
  {
   "cell_type": "code",
   "execution_count": null,
   "metadata": {},
   "outputs": [],
   "source": [
    "from notebooks.eda.graficos_valores_ausentes import plot_reviews_distribuicao\n",
    "\n",
    "plot_reviews_distribuicao(data, column='reviews_por_mes', bins=30)"
   ]
  },
  {
   "cell_type": "markdown",
   "metadata": {},
   "source": [
    "##### Com base nessa análise, iremos filtrar os valores ausentes com a média da coluna 'reviews_por_mes', nesse caso é aproximadamente 1.37"
   ]
  },
  {
   "cell_type": "code",
   "execution_count": null,
   "metadata": {},
   "outputs": [],
   "source": [
    "media_reviews_mensais = data['reviews_por_mes'].mean()\n",
    "media_reviews_mensais"
   ]
  },
  {
   "cell_type": "code",
   "execution_count": null,
   "metadata": {},
   "outputs": [],
   "source": [
    "data['reviews_por_mes'] = data['reviews_por_mes'].fillna(media_reviews_mensais)\n",
    "data['reviews_por_mes'].isnull().sum()"
   ]
  },
  {
   "cell_type": "code",
   "execution_count": null,
   "metadata": {},
   "outputs": [],
   "source": [
    "data.isnull().sum()"
   ]
  },
  {
   "cell_type": "markdown",
   "metadata": {},
   "source": [
    "#### O tratamento de valores ausentes foi concluído com base na categoria das colunas, aplicando métodos distintos para variáveis qualitativas e quantitativas.\n",
    "\n",
    "---"
   ]
  },
  {
   "cell_type": "markdown",
   "metadata": {},
   "source": [
    "### 3.2 - Análise e Tratamento de Outliers\n",
    "\n",
    "#### • 'price': coluna de variáveis quantitativas discretas"
   ]
  },
  {
   "cell_type": "code",
   "execution_count": null,
   "metadata": {},
   "outputs": [],
   "source": [
    "from notebooks.eda.outliers import price_outliers\n",
    "\n",
    "price_outliers(data, column='price')"
   ]
  },
  {
   "cell_type": "markdown",
   "metadata": {},
   "source": [
    "---\n",
    "\n",
    "#### • 'minimo_noites': coluna de variáveis quantitativas discretas"
   ]
  },
  {
   "cell_type": "code",
   "execution_count": null,
   "metadata": {},
   "outputs": [],
   "source": [
    "from notebooks.eda.outliers import noite_outliers\n",
    "\n",
    "noite_outliers(data, column='minimo_noites')"
   ]
  },
  {
   "cell_type": "markdown",
   "metadata": {},
   "source": [
    "---\n",
    "\n",
    "#### • 'numero_de_reviews': coluna de variáveis quantitativas discretas"
   ]
  },
  {
   "cell_type": "code",
   "execution_count": null,
   "metadata": {},
   "outputs": [],
   "source": [
    "from notebooks.eda.outliers import reviews_outliers\n",
    "\n",
    "reviews_outliers(data, column='numero_de_reviews')"
   ]
  },
  {
   "cell_type": "markdown",
   "metadata": {},
   "source": [
    "---\n",
    "\n",
    "#### • 'reviews_por_mes': coluna de variáveis quantitativas contínuas"
   ]
  },
  {
   "cell_type": "code",
   "execution_count": null,
   "metadata": {},
   "outputs": [],
   "source": [
    "from notebooks.eda.outliers import reviews_por_mes_outliers\n",
    "\n",
    "reviews_por_mes_outliers(data, column='reviews_por_mes')"
   ]
  },
  {
   "cell_type": "markdown",
   "metadata": {},
   "source": [
    "---\n",
    "\n",
    "#### • 'calculado_host_listings_count': coluna de variáveis quantitativas discretas"
   ]
  },
  {
   "cell_type": "code",
   "execution_count": null,
   "metadata": {},
   "outputs": [],
   "source": [
    "from notebooks.eda.outliers import host_listings_outliers\n",
    "\n",
    "host_listings_outliers(data, column='calculado_host_listings_count')"
   ]
  },
  {
   "cell_type": "markdown",
   "metadata": {},
   "source": [
    "#### O tratamento de outlier foi concluído com base no intervalo interquartil (IQR), aplicando o método de substituir os valores outliers pelos limites.\n",
    "\n",
    "---"
   ]
  },
  {
   "cell_type": "markdown",
   "metadata": {},
   "source": [
    "### 3.2 Encoding de Variáveis\n",
    "\n",
    "Essa etapa busca transformar as variáveis categóricas em 'numéricas' com o objetivo de calcular a correlação de todas as variáveis e depois treinar um modelo com base em todas as variáveis, como pedido no teste do desafio."
   ]
  },
  {
   "cell_type": "code",
   "execution_count": null,
   "metadata": {},
   "outputs": [],
   "source": [
    "print(data.select_dtypes(include=['object', 'category']).nunique())"
   ]
  },
  {
   "cell_type": "markdown",
   "metadata": {},
   "source": [
    "As variáveis 'nome', 'host_name e 'bairro' possuem alta cardinalidade, ou seja, possuem muitos valores únicos. Aplicar One-Hot Encoding a essas variáveis criaria um grande número de colunas, resultando em problemas de dimensionalidade e alto consumo de memória. Para lidar com isso será utilizada a técnica de Target Encoding que substitui os valores categóricos por estatísticas da variável-alvo, nesse caso 'price', preservando a relação dessas variáveis com o objetivo do modelo."
   ]
  },
  {
   "cell_type": "markdown",
   "metadata": {},
   "source": [
    "\n",
    "Obs: Antes disso vou fazer uma cópia dos bairros porque vai ser importante o nome deles posteriormente."
   ]
  },
  {
   "cell_type": "code",
   "execution_count": null,
   "metadata": {},
   "outputs": [],
   "source": [
    "bairros_originais = data['bairro'].copy()"
   ]
  },
  {
   "cell_type": "code",
   "execution_count": null,
   "metadata": {},
   "outputs": [],
   "source": [
    "from notebooks.eda.encoding import target_encoding\n",
    "\n",
    "data = target_encoding(data, ['nome', 'host_name', 'bairro'])"
   ]
  },
  {
   "cell_type": "markdown",
   "metadata": {},
   "source": [
    "Já as variáveis 'bairro_group' e 'room_type' possuem baixa cardinalidade, por isso a melhor técnica a se aplicar é One-Hot-Encoding"
   ]
  },
  {
   "cell_type": "markdown",
   "metadata": {},
   "source": [
    "Obs: Antes disso vou fazer uma cópia dos bairros por grupo porque vai ser importante o nome deles posteriormente também."
   ]
  },
  {
   "cell_type": "code",
   "execution_count": null,
   "metadata": {},
   "outputs": [],
   "source": [
    "bairros_group_originais = data['bairro_group'].copy()"
   ]
  },
  {
   "cell_type": "code",
   "execution_count": null,
   "metadata": {},
   "outputs": [],
   "source": [
    "from notebooks.eda.encoding import one_hot_encoding\n",
    "\n",
    "data = one_hot_encoding(data, ['bairro_group', 'room_type'])"
   ]
  },
  {
   "cell_type": "markdown",
   "metadata": {},
   "source": [
    "---\n",
    "\n",
    "### 3.3 - Análise de Correlação das Variáveis"
   ]
  },
  {
   "cell_type": "code",
   "execution_count": null,
   "metadata": {},
   "outputs": [],
   "source": [
    "matriz_correlacao = data.corr(numeric_only=True)\n",
    "matriz_correlacao"
   ]
  },
  {
   "cell_type": "code",
   "execution_count": null,
   "metadata": {},
   "outputs": [],
   "source": [
    "plt.figure(figsize=(12, 10)) \n",
    "sns.heatmap(\n",
    "    matriz_correlacao,\n",
    "    annot=False,\n",
    "    cmap='coolwarm',\n",
    "    fmt=\".2f\",\n",
    "    linewidths=0.5,\n",
    "    annot_kws={\"size\": 10},  # ajuste do tamanho do texto nas células\n",
    "    cbar_kws={\"shrink\": 0.8},  # reduz o tamanho da barra de cores\n",
    ")\n",
    "\n",
    "plt.title('Gráfico de Correlação', fontsize=18, pad=20)  \n",
    "plt.xticks(rotation=45, ha='right', fontsize=10)  # rotaciona os rótulos e ajusta o alinhamento\n",
    "plt.yticks(rotation=0, fontsize=10)  \n",
    "plt.tight_layout()  \n",
    "\n",
    "plt.show()"
   ]
  },
  {
   "cell_type": "markdown",
   "metadata": {},
   "source": [
    "---\n"
   ]
  },
  {
   "cell_type": "markdown",
   "metadata": {},
   "source": [
    "### 4. Análise Específica \n",
    "\n",
    "As análises a seguir serão cruciais para responder as perguntas do item '2' do desafio. As explicações estarão em um relatório a parte."
   ]
  },
  {
   "cell_type": "markdown",
   "metadata": {},
   "source": [
    "#### 4.1 Análise de Área Indicada - Investimento Apartamento"
   ]
  },
  {
   "cell_type": "code",
   "execution_count": null,
   "metadata": {},
   "outputs": [],
   "source": [
    "from notebooks.analise.analise_investimento_imovel import criar_mapa_apartamentos, analisar bairros\n",
    "\n",
    "mapa_final = criar_mapa_apartamentos(data)\n",
    "mapa_final"
   ]
  },
  {
   "cell_type": "code",
   "execution_count": null,
   "metadata": {},
   "outputs": [],
   "source": [
    "# chamada da cópia dos nomes dos bairros para análise\n",
    "data['bairro_original'] = bairros_originais\n",
    "\n",
    "resumo_bairros, resumo_percentual = analisar_bairros(data)"
   ]
  },
  {
   "cell_type": "markdown",
   "metadata": {},
   "source": [
    "#### 4.2 Análise Padrão Textual - Lugares de Maior Valor"
   ]
  },
  {
   "cell_type": "code",
   "execution_count": null,
   "metadata": {},
   "outputs": [],
   "source": [
    "from notebooks.analise.analise_padrao_local_valor import analisar_precos_por_bairro\n",
    "\n",
    "data['bairro_group_original'] = bairros_group_originais # uso da cópia dos nomes dos bairros originais\n",
    "    \n",
    "media_bairros, media_primeira_palavra = analisar_precos_por_bairro(data, bairros_originais, bairros_group_originais)"
   ]
  },
  {
   "cell_type": "markdown",
   "metadata": {},
   "source": [
    "#### Exclusão das colunas criadas para esses procedimentos"
   ]
  },
  {
   "cell_type": "code",
   "execution_count": null,
   "metadata": {},
   "outputs": [],
   "source": [
    "data.drop(columns=['bairro_original', 'cor', 'bairro_group_original'], inplace=True)"
   ]
  },
  {
   "cell_type": "markdown",
   "metadata": {},
   "source": [
    "---"
   ]
  },
  {
   "cell_type": "markdown",
   "metadata": {},
   "source": [
    "### 5. Modelo de Machine Learning\n",
    "\n",
    "Elaboração do modelo de previsão do preço a partir do dataset"
   ]
  }
 ],
 "metadata": {
  "kernelspec": {
   "display_name": "Python 3 (ipykernel)",
   "language": "python",
   "name": "python3"
  },
  "language_info": {
   "codemirror_mode": {
    "name": "ipython",
    "version": 3
   },
   "file_extension": ".py",
   "mimetype": "text/x-python",
   "name": "python",
   "nbconvert_exporter": "python",
   "pygments_lexer": "ipython3",
   "version": "3.12.7"
  }
 },
 "nbformat": 4,
 "nbformat_minor": 4
}
