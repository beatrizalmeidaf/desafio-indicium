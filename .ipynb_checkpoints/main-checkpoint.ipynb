{
 "cells": [
  {
   "cell_type": "markdown",
   "metadata": {},
   "source": [
    "# Desafio Lighthouse Indicium - Cientista de Dados"
   ]
  },
  {
   "cell_type": "markdown",
   "metadata": {},
   "source": [
    "Esse projeto foi desenvolvido em parceria com o programa Lighthouse Indicium, no contexto de um cliente que está criando uma plataforma de aluguéis temporários na cidade de Nova York. O principal objetivo é realizar uma análise exploratória de dados do maior concorrente e, com base nesses dados, desenvolver e validar um modelo preditivo de preços.\n",
    "\n",
    "A estratégia do projeto inclui:\n",
    "\n",
    "- Análise Exploratória de Dados (EDA): Identificação de padrões, tendências e variáveis relevantes para a precificação.\n",
    "- Desenvolvimento do Modelo: Construção de um modelo preditivo para estimar preços com base nos dados fornecidos.\n",
    "- Validação e Avaliação: Aplicação de métricas de avaliação apropriadas ao problema, garantindo que o modelo seja confiável e interprete os dados corretamente.\n",
    "  \n",
    "O resultado final será uma base sólida para a estratégia de precificação da plataforma, oferecendo insights competitivos e suporte à tomada de decisão do cliente."
   ]
  },
  {
   "cell_type": "markdown",
   "metadata": {},
   "source": [
    "---"
   ]
  },
  {
   "cell_type": "markdown",
   "metadata": {},
   "source": [
    "## 1. Importação de Bibliotecas"
   ]
  },
  {
   "cell_type": "code",
   "execution_count": 69,
   "metadata": {},
   "outputs": [
    {
     "name": "stdout",
     "output_type": "stream",
     "text": [
      "Collecting category_encoders\n",
      "  Using cached category_encoders-2.8.0-py3-none-any.whl.metadata (7.9 kB)\n",
      "Requirement already satisfied: numpy>=1.14.0 in c:\\users\\beatrizalmeida\\anaconda3\\lib\\site-packages (from category_encoders) (1.26.4)\n",
      "Requirement already satisfied: pandas>=1.0.5 in c:\\users\\beatrizalmeida\\anaconda3\\lib\\site-packages (from category_encoders) (2.2.2)\n",
      "Requirement already satisfied: patsy>=0.5.1 in c:\\users\\beatrizalmeida\\anaconda3\\lib\\site-packages (from category_encoders) (0.5.6)\n",
      "Collecting scikit-learn>=1.6.0 (from category_encoders)\n",
      "  Using cached scikit_learn-1.6.1-cp312-cp312-win_amd64.whl.metadata (15 kB)\n",
      "Requirement already satisfied: scipy>=1.0.0 in c:\\users\\beatrizalmeida\\anaconda3\\lib\\site-packages (from category_encoders) (1.13.1)\n",
      "Requirement already satisfied: statsmodels>=0.9.0 in c:\\users\\beatrizalmeida\\anaconda3\\lib\\site-packages (from category_encoders) (0.14.2)\n",
      "Requirement already satisfied: python-dateutil>=2.8.2 in c:\\users\\beatrizalmeida\\anaconda3\\lib\\site-packages (from pandas>=1.0.5->category_encoders) (2.9.0.post0)\n",
      "Requirement already satisfied: pytz>=2020.1 in c:\\users\\beatrizalmeida\\anaconda3\\lib\\site-packages (from pandas>=1.0.5->category_encoders) (2024.1)\n",
      "Requirement already satisfied: tzdata>=2022.7 in c:\\users\\beatrizalmeida\\anaconda3\\lib\\site-packages (from pandas>=1.0.5->category_encoders) (2023.3)\n",
      "Requirement already satisfied: six in c:\\users\\beatrizalmeida\\anaconda3\\lib\\site-packages (from patsy>=0.5.1->category_encoders) (1.16.0)\n",
      "Requirement already satisfied: joblib>=1.2.0 in c:\\users\\beatrizalmeida\\anaconda3\\lib\\site-packages (from scikit-learn>=1.6.0->category_encoders) (1.4.2)\n",
      "Requirement already satisfied: threadpoolctl>=3.1.0 in c:\\users\\beatrizalmeida\\anaconda3\\lib\\site-packages (from scikit-learn>=1.6.0->category_encoders) (3.5.0)\n",
      "Requirement already satisfied: packaging>=21.3 in c:\\users\\beatrizalmeida\\anaconda3\\lib\\site-packages (from statsmodels>=0.9.0->category_encoders) (24.1)\n",
      "Using cached category_encoders-2.8.0-py3-none-any.whl (85 kB)\n",
      "Using cached scikit_learn-1.6.1-cp312-cp312-win_amd64.whl (11.1 MB)\n",
      "Installing collected packages: scikit-learn, category_encoders\n",
      "  Attempting uninstall: scikit-learn\n",
      "    Found existing installation: scikit-learn 1.5.1\n",
      "    Uninstalling scikit-learn-1.5.1:\n",
      "      Successfully uninstalled scikit-learn-1.5.1\n",
      "Successfully installed category_encoders-2.8.0 scikit-learn-1.6.1\n"
     ]
    }
   ],
   "source": [
    "import sys\n",
    "!{sys.executable} -m pip install category_encoders"
   ]
  },
  {
   "cell_type": "code",
   "execution_count": 70,
   "metadata": {},
   "outputs": [],
   "source": [
    "import pandas as pd\n",
    "import numpy as np\n",
    "import matplotlib.pyplot as plt\n",
    "import matplotlib.dates as mdates\n",
    "import seaborn as sns\n",
    "import statistics as sts\n",
    "import category_encoders as ce # enconding de variáveis\n",
    "from sklearn.preprocessing import LabelEncoder # enconding de variáveis"
   ]
  },
  {
   "cell_type": "markdown",
   "metadata": {},
   "source": [
    "---\n",
    "\n",
    "## 2. Importação Dataset"
   ]
  },
  {
   "cell_type": "code",
   "execution_count": null,
   "metadata": {},
   "outputs": [],
   "source": [
    "data = pd.read_csv('data/teste_indicium_precificacao.csv')\n",
    "data.head(5)"
   ]
  },
  {
   "cell_type": "markdown",
   "metadata": {},
   "source": [
    "### 2.1 - Resumo de Dados\n",
    "\n",
    "    - id: Atua como uma chave exclusiva para cada anúncio nos dados do aplicativo\n",
    "    - nome: Representa o nome do anúncio\n",
    "    - host_id: Representa o id do usuário que hospedou o anúncio\n",
    "    - host_name: Contém o nome do usuário que hospedou o anúncio\n",
    "    - bairro_group: Contém o nome do bairro onde o anúncio está localizado\n",
    "    - bairro: Contém o nome da área onde o anúncio está localizado\n",
    "    - latitude: Contém a latitude do local\n",
    "    - longitude: Contém a longitude do local\n",
    "    - room_type: Contém o tipo de espaço de cada anúncio\n",
    "    - price: Contém o preço por noite em dólares listado pelo antrião\n",
    "    - minimo_noites: Contém o número mínimo de noites que o usuário deve reservar\n",
    "    - numero_de_reviews: Contém o número de comentários dados a cada listagem\n",
    "    - ultima_review: Contém a data da última revisão dada à listagem\n",
    "    - reviews_por_mes: Contém o número de avaliações fornecidas por mês\n",
    "    - calculado_host_listings_count: Contém a quantidade de listagem por host\n",
    "    - disponibilidade_365: Contém o número de dias em que o anúncio está disponível para reserva\n"
   ]
  },
  {
   "cell_type": "markdown",
   "metadata": {},
   "source": [
    "---\n",
    "\n",
    "## 3. Análise Exploratória dos Dados (EDA)"
   ]
  },
  {
   "cell_type": "code",
   "execution_count": null,
   "metadata": {},
   "outputs": [],
   "source": [
    "data.shape"
   ]
  },
  {
   "cell_type": "code",
   "execution_count": null,
   "metadata": {},
   "outputs": [],
   "source": [
    "data.info()"
   ]
  },
  {
   "cell_type": "code",
   "execution_count": null,
   "metadata": {},
   "outputs": [],
   "source": [
    "data.isnull().sum()"
   ]
  },
  {
   "cell_type": "markdown",
   "metadata": {},
   "source": [
    "#### Analisar valores ausentes em:\n",
    "\n",
    "- 'nome'\n",
    "- 'host_name'\n",
    "- 'ultima_review'\n",
    "- 'reviews_por_mes'"
   ]
  },
  {
   "cell_type": "code",
   "execution_count": null,
   "metadata": {},
   "outputs": [],
   "source": [
    "data.describe()"
   ]
  },
  {
   "cell_type": "markdown",
   "metadata": {},
   "source": [
    "#### Analisar possíveis outliers em:\n",
    "\n",
    "- 'price'\n",
    "- 'minimo_noites'\n",
    "- 'numero_de_reviews'\n",
    "- 'reviews_por_mes'\n",
    "- 'calculado_host_listings_count'"
   ]
  },
  {
   "cell_type": "markdown",
   "metadata": {},
   "source": [
    "### 3.1 - Análise e Tratamento de Valores Ausentes\n",
    "\n",
    "- 'nome': coluna de variáveis qualitativas nominais"
   ]
  },
  {
   "cell_type": "code",
   "execution_count": null,
   "metadata": {},
   "outputs": [],
   "source": [
    "data['nome'].isnull().sum()"
   ]
  },
  {
   "cell_type": "code",
   "execution_count": null,
   "metadata": {},
   "outputs": [],
   "source": [
    "nome_counts = data['nome'].value_counts()\n",
    "nome_counts"
   ]
  },
  {
   "cell_type": "code",
   "execution_count": null,
   "metadata": {},
   "outputs": [],
   "source": [
    "# nomes mais frequentes nos anúncios\n",
    "top_nomes = nome_counts.head(20)\n",
    "\n",
    "# gráfico com os 20 mais frequentes\n",
    "plt.figure(figsize=(10, 6))\n",
    "sns.barplot(\n",
    "    x=top_nomes.values,\n",
    "    y=top_nomes.index,\n",
    "    palette=sns.light_palette(\"blue\", reverse=True, n_colors=len(top_nomes)),\n",
    "    hue=top_nomes.index,  # atribui 'y' ao parâmetro hue\n",
    "    legend=False  \n",
    ")\n",
    "\n",
    "\n",
    "plt.title('Frequência dos 20 Nomes Mais Comuns', fontsize=16, weight='bold')\n",
    "plt.xlabel('Frequência', fontsize=14)\n",
    "plt.ylabel('Nome Do Anúncio', fontsize=14)\n",
    "plt.grid(axis='x', linestyle='--', alpha=0.6)\n",
    "sns.despine(left=True, bottom=True)\n",
    "plt.tight_layout()\n",
    "plt.show()"
   ]
  },
  {
   "cell_type": "markdown",
   "metadata": {},
   "source": [
    "#### Com base nessa análise, iremos filtrar os valores ausentes com a moda da coluna 'nome', ou seja, o valor mais frequente que nesse caso é 'Hillside Hotel'"
   ]
  },
  {
   "cell_type": "code",
   "execution_count": null,
   "metadata": {},
   "outputs": [],
   "source": [
    "moda_nomes = sts.mode(data['nome'])\n",
    "moda_nomes"
   ]
  },
  {
   "cell_type": "code",
   "execution_count": null,
   "metadata": {},
   "outputs": [],
   "source": [
    "data['nome'] = data['nome'].fillna(moda_nomes)\n",
    "data['nome'].isnull().sum()"
   ]
  },
  {
   "cell_type": "markdown",
   "metadata": {},
   "source": [
    "\n",
    "- 'host_name': coluna de variáveis qualitativas nominais"
   ]
  },
  {
   "cell_type": "code",
   "execution_count": null,
   "metadata": {},
   "outputs": [],
   "source": [
    "data['host_name'].isnull().sum()"
   ]
  },
  {
   "cell_type": "code",
   "execution_count": null,
   "metadata": {},
   "outputs": [],
   "source": [
    "host_name_counts = data['host_name'].value_counts()\n",
    "host_name_counts"
   ]
  },
  {
   "cell_type": "code",
   "execution_count": null,
   "metadata": {},
   "outputs": [],
   "source": [
    "# host_names mais frequentes nos anúncios\n",
    "top_host_names = host_name_counts.head(20)\n",
    "\n",
    "# gráfico com os 20 mais frequentes\n",
    "plt.figure(figsize=(10, 6))\n",
    "sns.barplot(\n",
    "    x=top_host_names.values,\n",
    "    y=top_host_names.index,\n",
    "    palette=sns.light_palette(\"blue\", reverse=True, n_colors=len(top_host_names)),\n",
    "    hue=top_host_names.index,  \n",
    "    legend=False  \n",
    ")\n",
    "\n",
    "\n",
    "plt.title('Frequência dos 20 Host Names Mais Comuns', fontsize=16, weight='bold')\n",
    "plt.xlabel('Frequência', fontsize=14)\n",
    "plt.ylabel('Host Name', fontsize=14)\n",
    "plt.grid(axis='x', linestyle='--', alpha=0.6)\n",
    "sns.despine(left=True, bottom=True)\n",
    "plt.tight_layout()\n",
    "plt.show()"
   ]
  },
  {
   "cell_type": "markdown",
   "metadata": {},
   "source": [
    "#### Com base nessa análise, iremos filtrar os valores ausentes com a moda da coluna 'host_name', ou seja, o valor mais frequente que nesse caso é 'Michael'"
   ]
  },
  {
   "cell_type": "code",
   "execution_count": null,
   "metadata": {},
   "outputs": [],
   "source": [
    "moda_host_name = sts.mode(data['host_name'])\n",
    "moda_host_name"
   ]
  },
  {
   "cell_type": "code",
   "execution_count": null,
   "metadata": {},
   "outputs": [],
   "source": [
    "data['host_name'].fillna(moda_host_name)\n",
    "data['host_name'].isnull().sum()"
   ]
  },
  {
   "cell_type": "markdown",
   "metadata": {},
   "source": [
    "\n",
    "- 'ultima_review': coluna de variáveis qualitativas ordinais"
   ]
  },
  {
   "cell_type": "code",
   "execution_count": null,
   "metadata": {},
   "outputs": [],
   "source": [
    "data['ultima_review'].isnull().sum()"
   ]
  },
  {
   "cell_type": "code",
   "execution_count": null,
   "metadata": {},
   "outputs": [],
   "source": [
    "# converter a coluna para o tipo datetime\n",
    "data['ultima_review'] = pd.to_datetime(data['ultima_review'], errors='coerce')"
   ]
  },
  {
   "cell_type": "code",
   "execution_count": null,
   "metadata": {},
   "outputs": [],
   "source": [
    "ultima_review_counts = data['ultima_review'].value_counts()\n",
    "ultima_review_counts"
   ]
  },
  {
   "cell_type": "code",
   "execution_count": null,
   "metadata": {},
   "outputs": [],
   "source": [
    "# ordenar os dados por data para análise temporal\n",
    "sorted_data = data.sort_values(by='ultima_review')\n",
    "\n",
    "# gráfico de série temporal\n",
    "plt.figure(figsize=(12, 6))\n",
    "plt.plot(\n",
    "    sorted_data['ultima_review'], \n",
    "    range(len(sorted_data)), \n",
    "    marker='o', \n",
    "    linestyle='-', \n",
    "    color='#1f77b4', \n",
    "    label='Revisões'\n",
    ")\n",
    "\n",
    "plt.title('Distribuição Temporal das Últimas Revisões', fontsize=16, fontweight='bold', pad=15)\n",
    "plt.xlabel('Data da Última Revisão', fontsize=12, labelpad=10)\n",
    "plt.ylabel('Índice', fontsize=12, labelpad=10)\n",
    "\n",
    "# frequência dos ticks no eixo X\n",
    "plt.gca().xaxis.set_major_formatter(mdates.DateFormatter('%b %Y'))  # formato: Mês Ano\n",
    "plt.gca().xaxis.set_major_locator(mdates.MonthLocator(interval=6))  # intervalo de 6 meses\n",
    "plt.xticks(rotation=45, fontsize=10)\n",
    "\n",
    "plt.grid(color='gray', linestyle='--', linewidth=0.5, alpha=0.7)\n",
    "plt.legend(fontsize=12, loc='upper left')\n",
    "plt.tight_layout()\n",
    "\n",
    "plt.show()"
   ]
  },
  {
   "cell_type": "markdown",
   "metadata": {},
   "source": [
    "#### Com base nessa análise, iremos filtrar os valores ausentes com a moda da coluna 'ultima_review', ou seja, o valor mais frequente que nesse caso é '2019-06-23'. Percebe-se a crescente ao longo dos anos do número de comentários dados a cada listagem."
   ]
  },
  {
   "cell_type": "code",
   "execution_count": null,
   "metadata": {},
   "outputs": [],
   "source": [
    "moda_ultima_review = data['ultima_review'].mode()[0]\n",
    "print(moda_ultima_review)"
   ]
  },
  {
   "cell_type": "code",
   "execution_count": null,
   "metadata": {},
   "outputs": [],
   "source": [
    "data['ultima_review'] = data['ultima_review'].fillna(moda_ultima_review)\n",
    "data['ultima_review'].isnull().sum()"
   ]
  },
  {
   "cell_type": "markdown",
   "metadata": {},
   "source": [
    "\n",
    "- 'reviews_por_mes': coluna de variáveis quantitativas contínuas"
   ]
  },
  {
   "cell_type": "code",
   "execution_count": null,
   "metadata": {},
   "outputs": [],
   "source": [
    "data['reviews_por_mes'].isnull().sum()"
   ]
  },
  {
   "cell_type": "code",
   "execution_count": null,
   "metadata": {},
   "outputs": [],
   "source": [
    "data['reviews_por_mes'].value_counts()"
   ]
  },
  {
   "cell_type": "code",
   "execution_count": null,
   "metadata": {},
   "outputs": [],
   "source": [
    "agrupado_reviews_mensais = data.groupby(['reviews_por_mes']).size()\n",
    "agrupado_reviews_mensais.sort_values(ascending=False)"
   ]
  },
  {
   "cell_type": "code",
   "execution_count": null,
   "metadata": {},
   "outputs": [],
   "source": [
    "# armazenamento dos valores da coluna em uma variável\n",
    "reviews_values = data['reviews_por_mes'].values\n",
    "\n",
    "fig, ax = plt.subplots(1, 2, figsize=(18, 6))\n",
    "\n",
    "# histograma \n",
    "sns.histplot(reviews_values, bins=30, kde=False, color='#1f77b4', edgecolor='black', ax=ax[0])\n",
    "ax[0].set_title('Histograma dos Reviews por Mês', fontsize=14, fontweight='bold')\n",
    "ax[0].set_xlabel('Reviews por Mês', fontsize=12)\n",
    "ax[0].set_ylabel('Frequência', fontsize=12)\n",
    "ax[0].grid(axis='y', linestyle='--', linewidth=0.5, alpha=0.7)\n",
    "\n",
    "# gráfico de densidade\n",
    "sns.kdeplot(reviews_values, color='r', fill=True, alpha=0.6, ax=ax[1])\n",
    "ax[1].set_title('Densidade dos Reviews por Mês', fontsize=14, fontweight='bold')\n",
    "ax[1].set_xlabel('Reviews por Mês', fontsize=12)\n",
    "ax[1].set_ylabel('Densidade', fontsize=12)\n",
    "ax[1].grid(axis='y', linestyle='--', linewidth=0.5, alpha=0.7)\n",
    "\n",
    "\n",
    "plt.tight_layout()\n",
    "\n",
    "plt.show()"
   ]
  },
  {
   "cell_type": "markdown",
   "metadata": {},
   "source": [
    "#### Com base nessa análise, iremos filtrar os valores ausentes com a média da coluna 'reviews_por_mes', nesse caso é aproximadamente 1.37"
   ]
  },
  {
   "cell_type": "code",
   "execution_count": null,
   "metadata": {},
   "outputs": [],
   "source": [
    "media_reviews_mensais = data['reviews_por_mes'].mean()\n",
    "media_reviews_mensais"
   ]
  },
  {
   "cell_type": "code",
   "execution_count": null,
   "metadata": {},
   "outputs": [],
   "source": [
    "data['reviews_por_mes'] = data['reviews_por_mes'].fillna(media_reviews_mensais)\n",
    "data['reviews_por_mes'].isnull().sum()"
   ]
  },
  {
   "cell_type": "markdown",
   "metadata": {},
   "source": [
    "#### O tratamento de valores ausentes foi concluído com base na categoria das colunas, aplicando métodos distintos para variáveis qualitativas e quantitativas."
   ]
  },
  {
   "cell_type": "markdown",
   "metadata": {},
   "source": [
    "### 3.2 - Análise e Tratamento de Outliers\n",
    "\n",
    "- 'price': coluna de variáveis quantitativas discretas"
   ]
  },
  {
   "cell_type": "code",
   "execution_count": null,
   "metadata": {},
   "outputs": [],
   "source": [
    "data['price'].value_counts()"
   ]
  },
  {
   "cell_type": "code",
   "execution_count": null,
   "metadata": {},
   "outputs": [],
   "source": [
    "plt.figure(figsize=(12, 6))\n",
    "\n",
    "sns.boxplot(data=data, x='price', color='#1f77b4', fliersize=5, linewidth=2, whis=1.5)\n",
    "\n",
    "plt.title('Análise de Outliers - Preços', fontsize=16, fontweight='bold', pad=15)\n",
    "plt.xlabel('Preço', fontsize=12, labelpad=10)\n",
    "\n",
    "plt.grid(axis='x', linestyle='--', linewidth=0.5, alpha=0.7)\n",
    "\n",
    "plt.tight_layout()\n",
    "\n",
    "plt.show()"
   ]
  },
  {
   "cell_type": "markdown",
   "metadata": {},
   "source": [
    "#### Substituição de Outlier pelos Limites\n",
    "\n",
    "Útil para preservar os dados, mas reduzir o impacto dos outliers. Esses limites são definidos pelo IQR. Nesses casos, também poderia remover os outliers, porém geraria mais valores nulos, então para simplificar irei somente substituir pelos limites"
   ]
  },
  {
   "cell_type": "code",
   "execution_count": null,
   "metadata": {},
   "outputs": [],
   "source": [
    "Q1 = data['price'].quantile(0.25)  # primeiro quartil\n",
    "Q3 = data['price'].quantile(0.75)  # terceiro quartil\n",
    "IQR = Q3 - Q1                      # intervalo interquartil\n",
    "\n",
    "# limites\n",
    "limite_inferior_preco = data['price'].min()\n",
    "limite_superior_preco = Q3 + 1.5 * IQR\n",
    "\n",
    "print(f\"Limite inferior: {limite_inferior_preco}\")\n",
    "print(f\"Limite superior: {limite_superior_preco}\")"
   ]
  },
  {
   "cell_type": "code",
   "execution_count": null,
   "metadata": {},
   "outputs": [],
   "source": [
    "data['price'] = data['price'].clip(lower=limite_inferior_preco, upper=limite_superior_preco)"
   ]
  },
  {
   "cell_type": "code",
   "execution_count": null,
   "metadata": {},
   "outputs": [],
   "source": [
    "plt.figure(figsize=(12, 6))\n",
    "\n",
    "sns.boxplot(data=data, x='price', color='#1f77b4', fliersize=5, linewidth=2, whis=1.5)\n",
    "\n",
    "plt.title('Análise de Outliers - Preços', fontsize=16, fontweight='bold', pad=15)\n",
    "plt.xlabel('Preço', fontsize=12, labelpad=10)\n",
    "\n",
    "plt.grid(axis='x', linestyle='--', linewidth=0.5, alpha=0.7)\n",
    "\n",
    "plt.tight_layout()\n",
    "\n",
    "plt.show()"
   ]
  },
  {
   "cell_type": "markdown",
   "metadata": {},
   "source": [
    "---\n",
    "\n",
    "- 'minimo_noites': coluna de variáveis quantitativas discretas"
   ]
  },
  {
   "cell_type": "code",
   "execution_count": null,
   "metadata": {},
   "outputs": [],
   "source": [
    "data['minimo_noites'].value_counts()"
   ]
  },
  {
   "cell_type": "code",
   "execution_count": null,
   "metadata": {},
   "outputs": [],
   "source": [
    "plt.figure(figsize=(12, 6))\n",
    "\n",
    "sns.boxplot(data=data, x='minimo_noites', color='#1f77b4', fliersize=5, linewidth=2, whis=1.5)\n",
    "\n",
    "plt.title('Análise de Outliers - Minimo de Noites', fontsize=16, fontweight='bold', pad=15)\n",
    "plt.xlabel('Mínimo Noites', fontsize=12, labelpad=10)\n",
    "\n",
    "plt.grid(axis='x', linestyle='--', linewidth=0.5, alpha=0.7)\n",
    "\n",
    "plt.tight_layout()\n",
    "\n",
    "plt.show()"
   ]
  },
  {
   "cell_type": "markdown",
   "metadata": {},
   "source": [
    "#### Substituição de Outlier pelos Limites"
   ]
  },
  {
   "cell_type": "code",
   "execution_count": null,
   "metadata": {},
   "outputs": [],
   "source": [
    "Q1 = data['minimo_noites'].quantile(0.25)  # primeiro quartil\n",
    "Q3 = data['minimo_noites'].quantile(0.75)  # terceiro quartil\n",
    "IQR = Q3 - Q1                              # intervalo interquartil\n",
    "\n",
    "# limites\n",
    "limite_inferior_noites = data['minimo_noites'].min()\n",
    "limite_superior_noites = Q3 + 1.5 * IQR\n",
    "\n",
    "print(f\"Limite inferior: {limite_inferior_noites}\")\n",
    "print(f\"Limite superior: {limite_superior_noites}\")"
   ]
  },
  {
   "cell_type": "code",
   "execution_count": null,
   "metadata": {},
   "outputs": [],
   "source": [
    "data['minimo_noites'] = data['minimo_noites'].clip(lower=limite_inferior_noites, upper=limite_superior_noites)"
   ]
  },
  {
   "cell_type": "code",
   "execution_count": null,
   "metadata": {},
   "outputs": [],
   "source": [
    "plt.figure(figsize=(12, 6))\n",
    "\n",
    "sns.boxplot(data=data, x='minimo_noites', color='#1f77b4', fliersize=5, linewidth=2, whis=1.5)\n",
    "\n",
    "plt.title('Análise de Outliers - Minimo de Noites', fontsize=16, fontweight='bold', pad=15)\n",
    "plt.xlabel('Mínimo Noites', fontsize=12, labelpad=10)\n",
    "\n",
    "plt.grid(axis='x', linestyle='--', linewidth=0.5, alpha=0.7)\n",
    "\n",
    "plt.tight_layout()\n",
    "\n",
    "plt.show()"
   ]
  },
  {
   "cell_type": "markdown",
   "metadata": {},
   "source": [
    "---\n",
    "\n",
    "- 'numero_de_reviews': coluna de variáveis quantitativas discretas"
   ]
  },
  {
   "cell_type": "code",
   "execution_count": null,
   "metadata": {},
   "outputs": [],
   "source": [
    "data['numero_de_reviews'].value_counts()"
   ]
  },
  {
   "cell_type": "code",
   "execution_count": null,
   "metadata": {},
   "outputs": [],
   "source": [
    "plt.figure(figsize=(12, 6))\n",
    "\n",
    "sns.boxplot(data=data, x='numero_de_reviews', color='#1f77b4', fliersize=5, linewidth=2, whis=1.5)\n",
    "\n",
    "plt.title('Análise de Outliers - Número de Reviews', fontsize=16, fontweight='bold', pad=15)\n",
    "plt.xlabel('Número de Reviews', fontsize=12, labelpad=10)\n",
    "\n",
    "plt.grid(axis='x', linestyle='--', linewidth=0.5, alpha=0.7)\n",
    "\n",
    "plt.tight_layout()\n",
    "\n",
    "plt.show()"
   ]
  },
  {
   "cell_type": "markdown",
   "metadata": {},
   "source": [
    "#### Substituição de Outlier pelos Limites"
   ]
  },
  {
   "cell_type": "code",
   "execution_count": null,
   "metadata": {},
   "outputs": [],
   "source": [
    "Q1 = data['numero_de_reviews'].quantile(0.25)  # primeiro quartil\n",
    "Q3 = data['numero_de_reviews'].quantile(0.75)  # terceiro quartil\n",
    "IQR = Q3 - Q1                                  # intervalo interquartil\n",
    "\n",
    "# limites\n",
    "limite_inferior_reviews = data['numero_de_reviews'].min()\n",
    "limite_superior_reviews = Q3 + 1.5 * IQR\n",
    "\n",
    "print(f\"Limite inferior: {limite_inferior_reviews}\")\n",
    "print(f\"Limite superior: {limite_superior_reviews}\")"
   ]
  },
  {
   "cell_type": "code",
   "execution_count": null,
   "metadata": {},
   "outputs": [],
   "source": [
    "data['numero_de_reviews'] = data['numero_de_reviews'].clip(lower=limite_inferior_reviews, upper=limite_superior_reviews)"
   ]
  },
  {
   "cell_type": "code",
   "execution_count": null,
   "metadata": {},
   "outputs": [],
   "source": [
    "plt.figure(figsize=(12, 6))\n",
    "\n",
    "sns.boxplot(data=data, x='numero_de_reviews', color='#1f77b4', fliersize=5, linewidth=2, whis=1.5)\n",
    "\n",
    "plt.title('Análise de Outliers - Número de Reviews', fontsize=16, fontweight='bold', pad=15)\n",
    "plt.xlabel('Número de Reviews', fontsize=12, labelpad=10)\n",
    "\n",
    "plt.grid(axis='x', linestyle='--', linewidth=0.5, alpha=0.7)\n",
    "\n",
    "plt.tight_layout()\n",
    "\n",
    "plt.show()"
   ]
  },
  {
   "cell_type": "markdown",
   "metadata": {},
   "source": [
    "---\n",
    "\n",
    "- 'reviews_por_mes': coluna de variáveis quantitativas contínuas"
   ]
  },
  {
   "cell_type": "code",
   "execution_count": null,
   "metadata": {},
   "outputs": [],
   "source": [
    "plt.figure(figsize=(12, 6))\n",
    "\n",
    "sns.boxplot(data=data, x='reviews_por_mes', color='#1f77b4', fliersize=5, linewidth=2, whis=1.5)\n",
    "\n",
    "plt.title('Análise de Outliers - Reviews Mensais', fontsize=16, fontweight='bold', pad=15)\n",
    "plt.xlabel('Reviews Mensais', fontsize=12, labelpad=10)\n",
    "\n",
    "plt.grid(axis='x', linestyle='--', linewidth=0.5, alpha=0.7)\n",
    "\n",
    "plt.tight_layout()\n",
    "\n",
    "plt.show()"
   ]
  },
  {
   "cell_type": "markdown",
   "metadata": {},
   "source": [
    "#### Substituição de Outlier pelos Limites"
   ]
  },
  {
   "cell_type": "code",
   "execution_count": null,
   "metadata": {},
   "outputs": [],
   "source": [
    "Q1 = data['reviews_por_mes'].quantile(0.25)  # primeiro quartil\n",
    "Q3 = data['reviews_por_mes'].quantile(0.75)  # terceiro quartil\n",
    "IQR = Q3 - Q1                                  # intervalo interquartil\n",
    "\n",
    "# limites\n",
    "limite_inferior_reviews_mensais = data['reviews_por_mes'].min()\n",
    "limite_superior_reviews_mensais = Q3 + 1.5 * IQR\n",
    "\n",
    "print(f\"Limite inferior: {limite_inferior_reviews_mensais}\")\n",
    "print(f\"Limite superior: {limite_superior_reviews_mensais}\")"
   ]
  },
  {
   "cell_type": "code",
   "execution_count": null,
   "metadata": {},
   "outputs": [],
   "source": [
    "data['reviews_por_mes'] = data['reviews_por_mes'].clip(lower=limite_inferior_reviews_mensais, upper=limite_superior_reviews_mensais)"
   ]
  },
  {
   "cell_type": "code",
   "execution_count": null,
   "metadata": {},
   "outputs": [],
   "source": [
    "plt.figure(figsize=(12, 6))\n",
    "\n",
    "sns.boxplot(data=data, x='reviews_por_mes', color='#1f77b4', fliersize=5, linewidth=2, whis=1.5)\n",
    "\n",
    "plt.title('Análise de Outliers - Reviews Mensais', fontsize=16, fontweight='bold', pad=15)\n",
    "plt.xlabel('Reviews Mensais', fontsize=12, labelpad=10)\n",
    "\n",
    "plt.grid(axis='x', linestyle='--', linewidth=0.5, alpha=0.7)\n",
    "\n",
    "plt.tight_layout()\n",
    "\n",
    "plt.show()"
   ]
  },
  {
   "cell_type": "markdown",
   "metadata": {},
   "source": [
    "- 'calculado_host_listings_count': coluna de variáveis quantitativas discretas"
   ]
  },
  {
   "cell_type": "code",
   "execution_count": null,
   "metadata": {},
   "outputs": [],
   "source": [
    "plt.figure(figsize=(12, 6))\n",
    "\n",
    "sns.boxplot(data=data, x='calculado_host_listings_count', color='#1f77b4', fliersize=5, linewidth=2, whis=1.5)\n",
    "\n",
    "plt.title('Análise de Outliers - Host Count', fontsize=16, fontweight='bold', pad=15)\n",
    "plt.xlabel('Host Count', fontsize=12, labelpad=10)\n",
    "\n",
    "plt.grid(axis='x', linestyle='--', linewidth=0.5, alpha=0.7)\n",
    "\n",
    "plt.tight_layout()\n",
    "\n",
    "plt.show()"
   ]
  },
  {
   "cell_type": "markdown",
   "metadata": {},
   "source": [
    "#### Substituição de Outlier pelos Limites"
   ]
  },
  {
   "cell_type": "code",
   "execution_count": null,
   "metadata": {},
   "outputs": [],
   "source": [
    "Q1 = data['calculado_host_listings_count'].quantile(0.25)  # primeiro quartil\n",
    "Q3 = data['calculado_host_listings_count'].quantile(0.75)  # terceiro quartil\n",
    "IQR = Q3 - Q1                                              # intervalo interquartil\n",
    "\n",
    "# limites\n",
    "limite_inferior_host = data['calculado_host_listings_count'].min()\n",
    "limite_superior_host = Q3 + 1.5 * IQR\n",
    "\n",
    "print(f\"Limite inferior: {limite_inferior_host}\")\n",
    "print(f\"Limite superior: {limite_superior_host}\")"
   ]
  },
  {
   "cell_type": "code",
   "execution_count": null,
   "metadata": {},
   "outputs": [],
   "source": [
    "data['calculado_host_listings_count'] = data['calculado_host_listings_count'].clip(lower=limite_inferior_host, upper=limite_superior_host)"
   ]
  },
  {
   "cell_type": "code",
   "execution_count": null,
   "metadata": {},
   "outputs": [],
   "source": [
    "plt.figure(figsize=(12, 6))\n",
    "\n",
    "sns.boxplot(data=data, x='calculado_host_listings_count', color='#1f77b4', fliersize=5, linewidth=2, whis=1.5)\n",
    "\n",
    "plt.title('Análise de Outliers - Host Count', fontsize=16, fontweight='bold', pad=15)\n",
    "plt.xlabel('Host Count', fontsize=12, labelpad=10)\n",
    "\n",
    "plt.grid(axis='x', linestyle='--', linewidth=0.5, alpha=0.7)\n",
    "\n",
    "plt.tight_layout()\n",
    "\n",
    "plt.show()"
   ]
  },
  {
   "cell_type": "markdown",
   "metadata": {},
   "source": [
    "#### O tratamento de outlier foi concluído com base no intervalo interquartil (IQR), aplicando o método de substituir os valores outliers pelos limites.\n",
    "\n",
    "---"
   ]
  },
  {
   "cell_type": "markdown",
   "metadata": {},
   "source": [
    "### 3.2 Encoding de Variáveis\n",
    "\n",
    "Essa etapa busca transformar as variáveis categóricas em 'numéricas' com o objetivo de calcular a correlação de todas as variáveis e depois treinar um modelo com base em todas as variáveis, como pedido no teste do desafio."
   ]
  },
  {
   "cell_type": "code",
   "execution_count": null,
   "metadata": {},
   "outputs": [],
   "source": [
    "print(data.select_dtypes(include=['object', 'category']).nunique())"
   ]
  },
  {
   "cell_type": "markdown",
   "metadata": {},
   "source": [
    "#### As variáveis 'nome', 'host_name', 'bairro' e 'ultima_review' possuem alta cardinalidade, ou seja, possuem muitos valores únicos. Aplicar One-Hot Encoding a essas variáveis criaria um grande número de colunas, resultando em problemas de dimensionalidade e alto consumo de memória. Para lidar com isso será utilizada a técnica de Target Encoding que substitui os valores categóricos por estatísticas da variável-alvo, nesse caso 'price', preservando a relação dessas variáveis com o objetivo do modelo."
   ]
  },
  {
   "cell_type": "code",
   "execution_count": null,
   "metadata": {},
   "outputs": [],
   "source": [
    "target_encoder_name = ce.TargetEncoder()\n",
    "target_encoder_host = ce.TargetEncoder()\n",
    "target_encoder_bairro = ce.TargetEncoder()"
   ]
  },
  {
   "cell_type": "code",
   "execution_count": null,
   "metadata": {},
   "outputs": [],
   "source": [
    "data['nome'] = target_encoder_name.fit_transform(data['nome'], data['price'])\n",
    "data['host_name'] = target_encoder_host.fit_transform(data['host_name'], data['price'])\n",
    "data['bairro'] = target_encoder_bairro.fit_transform(data['bairro'], data['price'])"
   ]
  },
  {
   "cell_type": "markdown",
   "metadata": {},
   "source": [
    "#### Já as variáveis 'bairro_group' e 'room_type' possuem baixa cardinalidade, por isso a melhor técnica a se aplicar é One-Hot-Encoding"
   ]
  },
  {
   "cell_type": "code",
   "execution_count": null,
   "metadata": {},
   "outputs": [],
   "source": [
    "data = pd.get_dummies(data, columns=['bairro_group', 'room_type'])"
   ]
  },
  {
   "cell_type": "markdown",
   "metadata": {},
   "source": [
    "---\n",
    "\n",
    "### 3.3 - Análise de Correlação das Variáveis"
   ]
  },
  {
   "cell_type": "code",
   "execution_count": null,
   "metadata": {},
   "outputs": [],
   "source": [
    "matriz_correlacao = data.corr(numeric_only=True)\n",
    "matriz_correlacao"
   ]
  },
  {
   "cell_type": "code",
   "execution_count": null,
   "metadata": {},
   "outputs": [],
   "source": [
    "plt.figure(figsize=(12, 10)) \n",
    "sns.heatmap(\n",
    "    matriz_correlacao,\n",
    "    annot=False,\n",
    "    cmap='coolwarm',\n",
    "    fmt=\".2f\",\n",
    "    linewidths=0.5,\n",
    "    annot_kws={\"size\": 10},  # ajuste do tamanho do texto nas células\n",
    "    cbar_kws={\"shrink\": 0.8},  # reduz o tamanho da barra de cores\n",
    ")\n",
    "\n",
    "plt.title('Gráfico de Correlação', fontsize=18, pad=20)  \n",
    "plt.xticks(rotation=45, ha='right', fontsize=10)  # rotaciona os rótulos e ajusta o alinhamento\n",
    "plt.yticks(rotation=0, fontsize=10)  \n",
    "plt.tight_layout()  \n",
    "\n",
    "plt.show()"
   ]
  },
  {
   "cell_type": "code",
   "execution_count": null,
   "metadata": {},
   "outputs": [],
   "source": [
    "data.info()"
   ]
  },
  {
   "cell_type": "code",
   "execution_count": null,
   "metadata": {},
   "outputs": [],
   "source": [
    "data.reviews_por_mes.isnull().sum()"
   ]
  },
  {
   "cell_type": "code",
   "execution_count": null,
   "metadata": {},
   "outputs": [],
   "source": []
  }
 ],
 "metadata": {
  "kernelspec": {
   "display_name": "Python 3 (ipykernel)",
   "language": "python",
   "name": "python3"
  },
  "language_info": {
   "codemirror_mode": {
    "name": "ipython",
    "version": 3
   },
   "file_extension": ".py",
   "mimetype": "text/x-python",
   "name": "python",
   "nbconvert_exporter": "python",
   "pygments_lexer": "ipython3",
   "version": "3.12.7"
  }
 },
 "nbformat": 4,
 "nbformat_minor": 4
}
